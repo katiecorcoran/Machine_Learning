{
  "nbformat": 4,
  "nbformat_minor": 0,
  "metadata": {
    "colab": {
      "provenance": []
    },
    "kernelspec": {
      "name": "python3",
      "display_name": "Python 3"
    },
    "language_info": {
      "name": "python"
    }
  },
  "cells": [
    {
      "cell_type": "markdown",
      "source": [
        "# HW 3\n",
        "Katie Corcoran"
      ],
      "metadata": {
        "id": "dvj5QPexLadn"
      }
    },
    {
      "cell_type": "code",
      "source": [
        "import numpy as np\n",
        "import pandas as pd\n",
        "import matplotlib.pyplot as plt\n",
        "import seaborn as sns\n",
        "import statsmodels.formula.api as smf\n",
        "sns.set()\n",
        "\n",
        "import warnings\n",
        "warnings.filterwarnings('ignore')"
      ],
      "metadata": {
        "id": "QgBHiJPwL2zJ"
      },
      "execution_count": null,
      "outputs": []
    },
    {
      "cell_type": "markdown",
      "source": [
        "### 1."
      ],
      "metadata": {
        "id": "Xsaq5WWvLe4q"
      }
    },
    {
      "cell_type": "code",
      "source": [
        "df = pd.read_csv('Logan_housing.csv')\n",
        "df.head()"
      ],
      "metadata": {
        "colab": {
          "base_uri": "https://localhost:8080/",
          "height": 278
        },
        "id": "Figy-gMNLbjd",
        "outputId": "1f41f64b-ddb9-4487-e82f-5bfe90aa84af"
      },
      "execution_count": null,
      "outputs": [
        {
          "output_type": "execute_result",
          "data": {
            "text/plain": [
              "   Sold Price  DOM  Garage Capacity  HOA Fee Irregular Shape Quadrant  \\\n",
              "0      176000    5                2        0              No       NW   \n",
              "1      225000    6                2        0              No       NW   \n",
              "2      274900   14                2        0              No       NW   \n",
              "3      175000   16                1        0              No       NW   \n",
              "4      179000   29                0        0              No       NW   \n",
              "\n",
              "  School District              Sold Terms  Total Bedrooms  Total Bathrooms  \\\n",
              "0           Cache                     FHA               3                1   \n",
              "1           Cache            Conventional               4                2   \n",
              "2           Cache            Conventional               3                1   \n",
              "3           Cache  USDA Rural Development               4                1   \n",
              "4           Cache                    Cash               4                2   \n",
              "\n",
              "   Total Square Feet  Year Built    Zip  year_sold  month_sold  \\\n",
              "0               1031        1974  84335       2018           9   \n",
              "1               2091        1995  84335       2018           7   \n",
              "2               2016        1980  84335       2018          11   \n",
              "3               1920        1978  84335       2018           6   \n",
              "4               1329        1976  84335       2018           9   \n",
              "\n",
              "   built_after_2000  \n",
              "0                 0  \n",
              "1                 0  \n",
              "2                 0  \n",
              "3                 0  \n",
              "4                 0  "
            ],
            "text/html": [
              "\n",
              "  <div id=\"df-77e8252c-1c58-4e3b-ba43-9d36c330b626\" class=\"colab-df-container\">\n",
              "    <div>\n",
              "<style scoped>\n",
              "    .dataframe tbody tr th:only-of-type {\n",
              "        vertical-align: middle;\n",
              "    }\n",
              "\n",
              "    .dataframe tbody tr th {\n",
              "        vertical-align: top;\n",
              "    }\n",
              "\n",
              "    .dataframe thead th {\n",
              "        text-align: right;\n",
              "    }\n",
              "</style>\n",
              "<table border=\"1\" class=\"dataframe\">\n",
              "  <thead>\n",
              "    <tr style=\"text-align: right;\">\n",
              "      <th></th>\n",
              "      <th>Sold Price</th>\n",
              "      <th>DOM</th>\n",
              "      <th>Garage Capacity</th>\n",
              "      <th>HOA Fee</th>\n",
              "      <th>Irregular Shape</th>\n",
              "      <th>Quadrant</th>\n",
              "      <th>School District</th>\n",
              "      <th>Sold Terms</th>\n",
              "      <th>Total Bedrooms</th>\n",
              "      <th>Total Bathrooms</th>\n",
              "      <th>Total Square Feet</th>\n",
              "      <th>Year Built</th>\n",
              "      <th>Zip</th>\n",
              "      <th>year_sold</th>\n",
              "      <th>month_sold</th>\n",
              "      <th>built_after_2000</th>\n",
              "    </tr>\n",
              "  </thead>\n",
              "  <tbody>\n",
              "    <tr>\n",
              "      <th>0</th>\n",
              "      <td>176000</td>\n",
              "      <td>5</td>\n",
              "      <td>2</td>\n",
              "      <td>0</td>\n",
              "      <td>No</td>\n",
              "      <td>NW</td>\n",
              "      <td>Cache</td>\n",
              "      <td>FHA</td>\n",
              "      <td>3</td>\n",
              "      <td>1</td>\n",
              "      <td>1031</td>\n",
              "      <td>1974</td>\n",
              "      <td>84335</td>\n",
              "      <td>2018</td>\n",
              "      <td>9</td>\n",
              "      <td>0</td>\n",
              "    </tr>\n",
              "    <tr>\n",
              "      <th>1</th>\n",
              "      <td>225000</td>\n",
              "      <td>6</td>\n",
              "      <td>2</td>\n",
              "      <td>0</td>\n",
              "      <td>No</td>\n",
              "      <td>NW</td>\n",
              "      <td>Cache</td>\n",
              "      <td>Conventional</td>\n",
              "      <td>4</td>\n",
              "      <td>2</td>\n",
              "      <td>2091</td>\n",
              "      <td>1995</td>\n",
              "      <td>84335</td>\n",
              "      <td>2018</td>\n",
              "      <td>7</td>\n",
              "      <td>0</td>\n",
              "    </tr>\n",
              "    <tr>\n",
              "      <th>2</th>\n",
              "      <td>274900</td>\n",
              "      <td>14</td>\n",
              "      <td>2</td>\n",
              "      <td>0</td>\n",
              "      <td>No</td>\n",
              "      <td>NW</td>\n",
              "      <td>Cache</td>\n",
              "      <td>Conventional</td>\n",
              "      <td>3</td>\n",
              "      <td>1</td>\n",
              "      <td>2016</td>\n",
              "      <td>1980</td>\n",
              "      <td>84335</td>\n",
              "      <td>2018</td>\n",
              "      <td>11</td>\n",
              "      <td>0</td>\n",
              "    </tr>\n",
              "    <tr>\n",
              "      <th>3</th>\n",
              "      <td>175000</td>\n",
              "      <td>16</td>\n",
              "      <td>1</td>\n",
              "      <td>0</td>\n",
              "      <td>No</td>\n",
              "      <td>NW</td>\n",
              "      <td>Cache</td>\n",
              "      <td>USDA Rural Development</td>\n",
              "      <td>4</td>\n",
              "      <td>1</td>\n",
              "      <td>1920</td>\n",
              "      <td>1978</td>\n",
              "      <td>84335</td>\n",
              "      <td>2018</td>\n",
              "      <td>6</td>\n",
              "      <td>0</td>\n",
              "    </tr>\n",
              "    <tr>\n",
              "      <th>4</th>\n",
              "      <td>179000</td>\n",
              "      <td>29</td>\n",
              "      <td>0</td>\n",
              "      <td>0</td>\n",
              "      <td>No</td>\n",
              "      <td>NW</td>\n",
              "      <td>Cache</td>\n",
              "      <td>Cash</td>\n",
              "      <td>4</td>\n",
              "      <td>2</td>\n",
              "      <td>1329</td>\n",
              "      <td>1976</td>\n",
              "      <td>84335</td>\n",
              "      <td>2018</td>\n",
              "      <td>9</td>\n",
              "      <td>0</td>\n",
              "    </tr>\n",
              "  </tbody>\n",
              "</table>\n",
              "</div>\n",
              "    <div class=\"colab-df-buttons\">\n",
              "\n",
              "  <div class=\"colab-df-container\">\n",
              "    <button class=\"colab-df-convert\" onclick=\"convertToInteractive('df-77e8252c-1c58-4e3b-ba43-9d36c330b626')\"\n",
              "            title=\"Convert this dataframe to an interactive table.\"\n",
              "            style=\"display:none;\">\n",
              "\n",
              "  <svg xmlns=\"http://www.w3.org/2000/svg\" height=\"24px\" viewBox=\"0 -960 960 960\">\n",
              "    <path d=\"M120-120v-720h720v720H120Zm60-500h600v-160H180v160Zm220 220h160v-160H400v160Zm0 220h160v-160H400v160ZM180-400h160v-160H180v160Zm440 0h160v-160H620v160ZM180-180h160v-160H180v160Zm440 0h160v-160H620v160Z\"/>\n",
              "  </svg>\n",
              "    </button>\n",
              "\n",
              "  <style>\n",
              "    .colab-df-container {\n",
              "      display:flex;\n",
              "      gap: 12px;\n",
              "    }\n",
              "\n",
              "    .colab-df-convert {\n",
              "      background-color: #E8F0FE;\n",
              "      border: none;\n",
              "      border-radius: 50%;\n",
              "      cursor: pointer;\n",
              "      display: none;\n",
              "      fill: #1967D2;\n",
              "      height: 32px;\n",
              "      padding: 0 0 0 0;\n",
              "      width: 32px;\n",
              "    }\n",
              "\n",
              "    .colab-df-convert:hover {\n",
              "      background-color: #E2EBFA;\n",
              "      box-shadow: 0px 1px 2px rgba(60, 64, 67, 0.3), 0px 1px 3px 1px rgba(60, 64, 67, 0.15);\n",
              "      fill: #174EA6;\n",
              "    }\n",
              "\n",
              "    .colab-df-buttons div {\n",
              "      margin-bottom: 4px;\n",
              "    }\n",
              "\n",
              "    [theme=dark] .colab-df-convert {\n",
              "      background-color: #3B4455;\n",
              "      fill: #D2E3FC;\n",
              "    }\n",
              "\n",
              "    [theme=dark] .colab-df-convert:hover {\n",
              "      background-color: #434B5C;\n",
              "      box-shadow: 0px 1px 3px 1px rgba(0, 0, 0, 0.15);\n",
              "      filter: drop-shadow(0px 1px 2px rgba(0, 0, 0, 0.3));\n",
              "      fill: #FFFFFF;\n",
              "    }\n",
              "  </style>\n",
              "\n",
              "    <script>\n",
              "      const buttonEl =\n",
              "        document.querySelector('#df-77e8252c-1c58-4e3b-ba43-9d36c330b626 button.colab-df-convert');\n",
              "      buttonEl.style.display =\n",
              "        google.colab.kernel.accessAllowed ? 'block' : 'none';\n",
              "\n",
              "      async function convertToInteractive(key) {\n",
              "        const element = document.querySelector('#df-77e8252c-1c58-4e3b-ba43-9d36c330b626');\n",
              "        const dataTable =\n",
              "          await google.colab.kernel.invokeFunction('convertToInteractive',\n",
              "                                                    [key], {});\n",
              "        if (!dataTable) return;\n",
              "\n",
              "        const docLinkHtml = 'Like what you see? Visit the ' +\n",
              "          '<a target=\"_blank\" href=https://colab.research.google.com/notebooks/data_table.ipynb>data table notebook</a>'\n",
              "          + ' to learn more about interactive tables.';\n",
              "        element.innerHTML = '';\n",
              "        dataTable['output_type'] = 'display_data';\n",
              "        await google.colab.output.renderOutput(dataTable, element);\n",
              "        const docLink = document.createElement('div');\n",
              "        docLink.innerHTML = docLinkHtml;\n",
              "        element.appendChild(docLink);\n",
              "      }\n",
              "    </script>\n",
              "  </div>\n",
              "\n",
              "\n",
              "<div id=\"df-1cd7acc8-93e6-45a2-8427-1845aa1e43b3\">\n",
              "  <button class=\"colab-df-quickchart\" onclick=\"quickchart('df-1cd7acc8-93e6-45a2-8427-1845aa1e43b3')\"\n",
              "            title=\"Suggest charts\"\n",
              "            style=\"display:none;\">\n",
              "\n",
              "<svg xmlns=\"http://www.w3.org/2000/svg\" height=\"24px\"viewBox=\"0 0 24 24\"\n",
              "     width=\"24px\">\n",
              "    <g>\n",
              "        <path d=\"M19 3H5c-1.1 0-2 .9-2 2v14c0 1.1.9 2 2 2h14c1.1 0 2-.9 2-2V5c0-1.1-.9-2-2-2zM9 17H7v-7h2v7zm4 0h-2V7h2v10zm4 0h-2v-4h2v4z\"/>\n",
              "    </g>\n",
              "</svg>\n",
              "  </button>\n",
              "\n",
              "<style>\n",
              "  .colab-df-quickchart {\n",
              "      --bg-color: #E8F0FE;\n",
              "      --fill-color: #1967D2;\n",
              "      --hover-bg-color: #E2EBFA;\n",
              "      --hover-fill-color: #174EA6;\n",
              "      --disabled-fill-color: #AAA;\n",
              "      --disabled-bg-color: #DDD;\n",
              "  }\n",
              "\n",
              "  [theme=dark] .colab-df-quickchart {\n",
              "      --bg-color: #3B4455;\n",
              "      --fill-color: #D2E3FC;\n",
              "      --hover-bg-color: #434B5C;\n",
              "      --hover-fill-color: #FFFFFF;\n",
              "      --disabled-bg-color: #3B4455;\n",
              "      --disabled-fill-color: #666;\n",
              "  }\n",
              "\n",
              "  .colab-df-quickchart {\n",
              "    background-color: var(--bg-color);\n",
              "    border: none;\n",
              "    border-radius: 50%;\n",
              "    cursor: pointer;\n",
              "    display: none;\n",
              "    fill: var(--fill-color);\n",
              "    height: 32px;\n",
              "    padding: 0;\n",
              "    width: 32px;\n",
              "  }\n",
              "\n",
              "  .colab-df-quickchart:hover {\n",
              "    background-color: var(--hover-bg-color);\n",
              "    box-shadow: 0 1px 2px rgba(60, 64, 67, 0.3), 0 1px 3px 1px rgba(60, 64, 67, 0.15);\n",
              "    fill: var(--button-hover-fill-color);\n",
              "  }\n",
              "\n",
              "  .colab-df-quickchart-complete:disabled,\n",
              "  .colab-df-quickchart-complete:disabled:hover {\n",
              "    background-color: var(--disabled-bg-color);\n",
              "    fill: var(--disabled-fill-color);\n",
              "    box-shadow: none;\n",
              "  }\n",
              "\n",
              "  .colab-df-spinner {\n",
              "    border: 2px solid var(--fill-color);\n",
              "    border-color: transparent;\n",
              "    border-bottom-color: var(--fill-color);\n",
              "    animation:\n",
              "      spin 1s steps(1) infinite;\n",
              "  }\n",
              "\n",
              "  @keyframes spin {\n",
              "    0% {\n",
              "      border-color: transparent;\n",
              "      border-bottom-color: var(--fill-color);\n",
              "      border-left-color: var(--fill-color);\n",
              "    }\n",
              "    20% {\n",
              "      border-color: transparent;\n",
              "      border-left-color: var(--fill-color);\n",
              "      border-top-color: var(--fill-color);\n",
              "    }\n",
              "    30% {\n",
              "      border-color: transparent;\n",
              "      border-left-color: var(--fill-color);\n",
              "      border-top-color: var(--fill-color);\n",
              "      border-right-color: var(--fill-color);\n",
              "    }\n",
              "    40% {\n",
              "      border-color: transparent;\n",
              "      border-right-color: var(--fill-color);\n",
              "      border-top-color: var(--fill-color);\n",
              "    }\n",
              "    60% {\n",
              "      border-color: transparent;\n",
              "      border-right-color: var(--fill-color);\n",
              "    }\n",
              "    80% {\n",
              "      border-color: transparent;\n",
              "      border-right-color: var(--fill-color);\n",
              "      border-bottom-color: var(--fill-color);\n",
              "    }\n",
              "    90% {\n",
              "      border-color: transparent;\n",
              "      border-bottom-color: var(--fill-color);\n",
              "    }\n",
              "  }\n",
              "</style>\n",
              "\n",
              "  <script>\n",
              "    async function quickchart(key) {\n",
              "      const quickchartButtonEl =\n",
              "        document.querySelector('#' + key + ' button');\n",
              "      quickchartButtonEl.disabled = true;  // To prevent multiple clicks.\n",
              "      quickchartButtonEl.classList.add('colab-df-spinner');\n",
              "      try {\n",
              "        const charts = await google.colab.kernel.invokeFunction(\n",
              "            'suggestCharts', [key], {});\n",
              "      } catch (error) {\n",
              "        console.error('Error during call to suggestCharts:', error);\n",
              "      }\n",
              "      quickchartButtonEl.classList.remove('colab-df-spinner');\n",
              "      quickchartButtonEl.classList.add('colab-df-quickchart-complete');\n",
              "    }\n",
              "    (() => {\n",
              "      let quickchartButtonEl =\n",
              "        document.querySelector('#df-1cd7acc8-93e6-45a2-8427-1845aa1e43b3 button');\n",
              "      quickchartButtonEl.style.display =\n",
              "        google.colab.kernel.accessAllowed ? 'block' : 'none';\n",
              "    })();\n",
              "  </script>\n",
              "</div>\n",
              "\n",
              "    </div>\n",
              "  </div>\n"
            ],
            "application/vnd.google.colaboratory.intrinsic+json": {
              "type": "dataframe",
              "variable_name": "df",
              "summary": "{\n  \"name\": \"df\",\n  \"rows\": 4110,\n  \"fields\": [\n    {\n      \"column\": \"Sold Price\",\n      \"properties\": {\n        \"dtype\": \"number\",\n        \"std\": 117864,\n        \"min\": 13000,\n        \"max\": 1900000,\n        \"num_unique_values\": 1217,\n        \"samples\": [\n          134900,\n          340900,\n          235000\n        ],\n        \"semantic_type\": \"\",\n        \"description\": \"\"\n      }\n    },\n    {\n      \"column\": \"DOM\",\n      \"properties\": {\n        \"dtype\": \"number\",\n        \"std\": 51,\n        \"min\": 1,\n        \"max\": 712,\n        \"num_unique_values\": 248,\n        \"samples\": [\n          40,\n          463,\n          212\n        ],\n        \"semantic_type\": \"\",\n        \"description\": \"\"\n      }\n    },\n    {\n      \"column\": \"Garage Capacity\",\n      \"properties\": {\n        \"dtype\": \"number\",\n        \"std\": 1,\n        \"min\": 0,\n        \"max\": 20,\n        \"num_unique_values\": 14,\n        \"samples\": [\n          20,\n          12,\n          2\n        ],\n        \"semantic_type\": \"\",\n        \"description\": \"\"\n      }\n    },\n    {\n      \"column\": \"HOA Fee\",\n      \"properties\": {\n        \"dtype\": \"number\",\n        \"std\": 69,\n        \"min\": 0,\n        \"max\": 1050,\n        \"num_unique_values\": 96,\n        \"samples\": [\n          188,\n          210,\n          240\n        ],\n        \"semantic_type\": \"\",\n        \"description\": \"\"\n      }\n    },\n    {\n      \"column\": \"Irregular Shape\",\n      \"properties\": {\n        \"dtype\": \"category\",\n        \"num_unique_values\": 2,\n        \"samples\": [\n          \"Yes\",\n          \"No\"\n        ],\n        \"semantic_type\": \"\",\n        \"description\": \"\"\n      }\n    },\n    {\n      \"column\": \"Quadrant\",\n      \"properties\": {\n        \"dtype\": \"category\",\n        \"num_unique_values\": 4,\n        \"samples\": [\n          \"SE\",\n          \"SW\"\n        ],\n        \"semantic_type\": \"\",\n        \"description\": \"\"\n      }\n    },\n    {\n      \"column\": \"School District\",\n      \"properties\": {\n        \"dtype\": \"category\",\n        \"num_unique_values\": 2,\n        \"samples\": [\n          \"Logan\",\n          \"Cache\"\n        ],\n        \"semantic_type\": \"\",\n        \"description\": \"\"\n      }\n    },\n    {\n      \"column\": \"Sold Terms\",\n      \"properties\": {\n        \"dtype\": \"category\",\n        \"num_unique_values\": 6,\n        \"samples\": [\n          \"FHA\",\n          \"Conventional\"\n        ],\n        \"semantic_type\": \"\",\n        \"description\": \"\"\n      }\n    },\n    {\n      \"column\": \"Total Bedrooms\",\n      \"properties\": {\n        \"dtype\": \"number\",\n        \"std\": 1,\n        \"min\": 1,\n        \"max\": 9,\n        \"num_unique_values\": 9,\n        \"samples\": [\n          8,\n          4\n        ],\n        \"semantic_type\": \"\",\n        \"description\": \"\"\n      }\n    },\n    {\n      \"column\": \"Total Bathrooms\",\n      \"properties\": {\n        \"dtype\": \"number\",\n        \"std\": 0,\n        \"min\": 1,\n        \"max\": 7,\n        \"num_unique_values\": 7,\n        \"samples\": [\n          1,\n          2\n        ],\n        \"semantic_type\": \"\",\n        \"description\": \"\"\n      }\n    },\n    {\n      \"column\": \"Total Square Feet\",\n      \"properties\": {\n        \"dtype\": \"number\",\n        \"std\": 1049,\n        \"min\": 520,\n        \"max\": 10890,\n        \"num_unique_values\": 2009,\n        \"samples\": [\n          1069,\n          2364\n        ],\n        \"semantic_type\": \"\",\n        \"description\": \"\"\n      }\n    },\n    {\n      \"column\": \"Year Built\",\n      \"properties\": {\n        \"dtype\": \"number\",\n        \"std\": 31,\n        \"min\": 1879,\n        \"max\": 2020,\n        \"num_unique_values\": 136,\n        \"samples\": [\n          1977,\n          1914\n        ],\n        \"semantic_type\": \"\",\n        \"description\": \"\"\n      }\n    },\n    {\n      \"column\": \"Zip\",\n      \"properties\": {\n        \"dtype\": \"number\",\n        \"std\": 8,\n        \"min\": 84305,\n        \"max\": 84341,\n        \"num_unique_values\": 16,\n        \"samples\": [\n          84335,\n          84328\n        ],\n        \"semantic_type\": \"\",\n        \"description\": \"\"\n      }\n    },\n    {\n      \"column\": \"year_sold\",\n      \"properties\": {\n        \"dtype\": \"number\",\n        \"std\": 0,\n        \"min\": 2018,\n        \"max\": 2020,\n        \"num_unique_values\": 3,\n        \"samples\": [\n          2018,\n          2019\n        ],\n        \"semantic_type\": \"\",\n        \"description\": \"\"\n      }\n    },\n    {\n      \"column\": \"month_sold\",\n      \"properties\": {\n        \"dtype\": \"number\",\n        \"std\": 3,\n        \"min\": 1,\n        \"max\": 12,\n        \"num_unique_values\": 12,\n        \"samples\": [\n          2,\n          3\n        ],\n        \"semantic_type\": \"\",\n        \"description\": \"\"\n      }\n    },\n    {\n      \"column\": \"built_after_2000\",\n      \"properties\": {\n        \"dtype\": \"number\",\n        \"std\": 0,\n        \"min\": 0,\n        \"max\": 1,\n        \"num_unique_values\": 2,\n        \"samples\": [\n          1,\n          0\n        ],\n        \"semantic_type\": \"\",\n        \"description\": \"\"\n      }\n    }\n  ]\n}"
            }
          },
          "metadata": {},
          "execution_count": 2
        }
      ]
    },
    {
      "cell_type": "markdown",
      "source": [
        "### 2."
      ],
      "metadata": {
        "id": "AatUpQPgMx9k"
      }
    },
    {
      "cell_type": "code",
      "source": [
        "df.drop(columns=['Garage Capacity', 'Irregular Shape', 'Sold Terms', 'Zip', 'month_sold', 'Year Built', 'year_sold'], inplace=True)"
      ],
      "metadata": {
        "id": "qrPRil0QME8R"
      },
      "execution_count": null,
      "outputs": []
    },
    {
      "cell_type": "markdown",
      "source": [
        "### 3."
      ],
      "metadata": {
        "id": "JHkioUJoM325"
      }
    },
    {
      "cell_type": "code",
      "source": [
        "print(df.isna().sum())\n",
        "df.replace(to_replace=' ', value=np.nan, inplace=True)\n",
        "print(df.isna().sum() / len(df) * 100)"
      ],
      "metadata": {
        "colab": {
          "base_uri": "https://localhost:8080/"
        },
        "id": "mF5bO9g-MVz_",
        "outputId": "31e78599-940a-4fc1-af64-0e02e5505134"
      },
      "execution_count": null,
      "outputs": [
        {
          "output_type": "stream",
          "name": "stdout",
          "text": [
            "Sold Price           0\n",
            "DOM                  0\n",
            "HOA Fee              0\n",
            "Quadrant             0\n",
            "School District      0\n",
            "Total Bedrooms       0\n",
            "Total Bathrooms      0\n",
            "Total Square Feet    0\n",
            "built_after_2000     0\n",
            "dtype: int64\n",
            "Sold Price           0.0\n",
            "DOM                  0.0\n",
            "HOA Fee              0.0\n",
            "Quadrant             0.0\n",
            "School District      0.0\n",
            "Total Bedrooms       0.0\n",
            "Total Bathrooms      0.0\n",
            "Total Square Feet    0.0\n",
            "built_after_2000     0.0\n",
            "dtype: float64\n"
          ]
        }
      ]
    },
    {
      "cell_type": "markdown",
      "source": [
        "No missing data!"
      ],
      "metadata": {
        "id": "06l6TNVKNCNI"
      }
    },
    {
      "cell_type": "markdown",
      "source": [
        "### 4."
      ],
      "metadata": {
        "id": "LEwFc0GzNR9M"
      }
    },
    {
      "cell_type": "code",
      "source": [
        "df.nunique()"
      ],
      "metadata": {
        "colab": {
          "base_uri": "https://localhost:8080/",
          "height": 366
        },
        "id": "A0wcqn97MrUh",
        "outputId": "52598ce4-8eeb-47b1-90a1-4e977252db05"
      },
      "execution_count": null,
      "outputs": [
        {
          "output_type": "execute_result",
          "data": {
            "text/plain": [
              "Sold Price           1217\n",
              "DOM                   248\n",
              "HOA Fee                96\n",
              "Quadrant                4\n",
              "School District         2\n",
              "Total Bedrooms          9\n",
              "Total Bathrooms         7\n",
              "Total Square Feet    2009\n",
              "built_after_2000        2\n",
              "dtype: int64"
            ],
            "text/html": [
              "<div>\n",
              "<style scoped>\n",
              "    .dataframe tbody tr th:only-of-type {\n",
              "        vertical-align: middle;\n",
              "    }\n",
              "\n",
              "    .dataframe tbody tr th {\n",
              "        vertical-align: top;\n",
              "    }\n",
              "\n",
              "    .dataframe thead th {\n",
              "        text-align: right;\n",
              "    }\n",
              "</style>\n",
              "<table border=\"1\" class=\"dataframe\">\n",
              "  <thead>\n",
              "    <tr style=\"text-align: right;\">\n",
              "      <th></th>\n",
              "      <th>0</th>\n",
              "    </tr>\n",
              "  </thead>\n",
              "  <tbody>\n",
              "    <tr>\n",
              "      <th>Sold Price</th>\n",
              "      <td>1217</td>\n",
              "    </tr>\n",
              "    <tr>\n",
              "      <th>DOM</th>\n",
              "      <td>248</td>\n",
              "    </tr>\n",
              "    <tr>\n",
              "      <th>HOA Fee</th>\n",
              "      <td>96</td>\n",
              "    </tr>\n",
              "    <tr>\n",
              "      <th>Quadrant</th>\n",
              "      <td>4</td>\n",
              "    </tr>\n",
              "    <tr>\n",
              "      <th>School District</th>\n",
              "      <td>2</td>\n",
              "    </tr>\n",
              "    <tr>\n",
              "      <th>Total Bedrooms</th>\n",
              "      <td>9</td>\n",
              "    </tr>\n",
              "    <tr>\n",
              "      <th>Total Bathrooms</th>\n",
              "      <td>7</td>\n",
              "    </tr>\n",
              "    <tr>\n",
              "      <th>Total Square Feet</th>\n",
              "      <td>2009</td>\n",
              "    </tr>\n",
              "    <tr>\n",
              "      <th>built_after_2000</th>\n",
              "      <td>2</td>\n",
              "    </tr>\n",
              "  </tbody>\n",
              "</table>\n",
              "</div><br><label><b>dtype:</b> int64</label>"
            ]
          },
          "metadata": {},
          "execution_count": 5
        }
      ]
    },
    {
      "cell_type": "markdown",
      "source": [
        "Based on this and the context of the data, we can determine the categorical vs numeric variables:"
      ],
      "metadata": {
        "id": "i7-gvz6uNvCr"
      }
    },
    {
      "cell_type": "code",
      "source": [
        "categoricals = ['Quadrant', 'School District', 'built_after_2000']\n",
        "numerics = [col for col in df.columns if col not in categoricals]\n",
        "\n",
        "df[numerics]= df[numerics].apply(lambda x: x.astype('float'))\n",
        "df[categoricals]= df[categoricals].apply(lambda x: x.astype('category'))\n",
        "df.info()"
      ],
      "metadata": {
        "colab": {
          "base_uri": "https://localhost:8080/"
        },
        "id": "6FseB_TlNKPk",
        "outputId": "d02c7698-c988-4da1-cf13-ffe2fcccee0d"
      },
      "execution_count": null,
      "outputs": [
        {
          "output_type": "stream",
          "name": "stdout",
          "text": [
            "<class 'pandas.core.frame.DataFrame'>\n",
            "RangeIndex: 4110 entries, 0 to 4109\n",
            "Data columns (total 9 columns):\n",
            " #   Column             Non-Null Count  Dtype   \n",
            "---  ------             --------------  -----   \n",
            " 0   Sold Price         4110 non-null   float64 \n",
            " 1   DOM                4110 non-null   float64 \n",
            " 2   HOA Fee            4110 non-null   float64 \n",
            " 3   Quadrant           4110 non-null   category\n",
            " 4   School District    4110 non-null   category\n",
            " 5   Total Bedrooms     4110 non-null   float64 \n",
            " 6   Total Bathrooms    4110 non-null   float64 \n",
            " 7   Total Square Feet  4110 non-null   float64 \n",
            " 8   built_after_2000   4110 non-null   category\n",
            "dtypes: category(3), float64(6)\n",
            "memory usage: 205.3 KB\n"
          ]
        }
      ]
    },
    {
      "cell_type": "markdown",
      "source": [
        "### 5."
      ],
      "metadata": {
        "id": "ZFtgBWz6O2P6"
      }
    },
    {
      "cell_type": "markdown",
      "source": [
        "1."
      ],
      "metadata": {
        "id": "Xx9i1RfoO7AV"
      }
    },
    {
      "cell_type": "code",
      "source": [
        "df.describe()"
      ],
      "metadata": {
        "colab": {
          "base_uri": "https://localhost:8080/",
          "height": 355
        },
        "id": "_JMhzDkPOPhA",
        "outputId": "ad80182c-54ac-4913-8bbd-3b686f6a1adc"
      },
      "execution_count": null,
      "outputs": [
        {
          "output_type": "execute_result",
          "data": {
            "text/plain": [
              "         Sold Price          DOM      HOA Fee  Total Bedrooms  \\\n",
              "count  4.110000e+03  4110.000000  4110.000000     4110.000000   \n",
              "mean   2.821252e+05    40.550608    36.178345        3.821168   \n",
              "std    1.178647e+05    51.571991    69.565512        1.182697   \n",
              "min    1.300000e+04     1.000000     0.000000        1.000000   \n",
              "25%    2.140000e+05     6.000000     0.000000        3.000000   \n",
              "50%    2.600000e+05    23.000000     0.000000        4.000000   \n",
              "75%    3.249000e+05    56.000000    65.000000        5.000000   \n",
              "max    1.900000e+06   712.000000  1050.000000        9.000000   \n",
              "\n",
              "       Total Bathrooms  Total Square Feet  \n",
              "count      4110.000000        4110.000000  \n",
              "mean          2.577372        2370.429440  \n",
              "std           0.851165        1049.690077  \n",
              "min           1.000000         520.000000  \n",
              "25%           2.000000        1583.000000  \n",
              "50%           3.000000        2141.000000  \n",
              "75%           3.000000        2941.750000  \n",
              "max           7.000000       10890.000000  "
            ],
            "text/html": [
              "\n",
              "  <div id=\"df-6479e572-7e20-4781-a01d-b14c8577cb30\" class=\"colab-df-container\">\n",
              "    <div>\n",
              "<style scoped>\n",
              "    .dataframe tbody tr th:only-of-type {\n",
              "        vertical-align: middle;\n",
              "    }\n",
              "\n",
              "    .dataframe tbody tr th {\n",
              "        vertical-align: top;\n",
              "    }\n",
              "\n",
              "    .dataframe thead th {\n",
              "        text-align: right;\n",
              "    }\n",
              "</style>\n",
              "<table border=\"1\" class=\"dataframe\">\n",
              "  <thead>\n",
              "    <tr style=\"text-align: right;\">\n",
              "      <th></th>\n",
              "      <th>Sold Price</th>\n",
              "      <th>DOM</th>\n",
              "      <th>HOA Fee</th>\n",
              "      <th>Total Bedrooms</th>\n",
              "      <th>Total Bathrooms</th>\n",
              "      <th>Total Square Feet</th>\n",
              "    </tr>\n",
              "  </thead>\n",
              "  <tbody>\n",
              "    <tr>\n",
              "      <th>count</th>\n",
              "      <td>4.110000e+03</td>\n",
              "      <td>4110.000000</td>\n",
              "      <td>4110.000000</td>\n",
              "      <td>4110.000000</td>\n",
              "      <td>4110.000000</td>\n",
              "      <td>4110.000000</td>\n",
              "    </tr>\n",
              "    <tr>\n",
              "      <th>mean</th>\n",
              "      <td>2.821252e+05</td>\n",
              "      <td>40.550608</td>\n",
              "      <td>36.178345</td>\n",
              "      <td>3.821168</td>\n",
              "      <td>2.577372</td>\n",
              "      <td>2370.429440</td>\n",
              "    </tr>\n",
              "    <tr>\n",
              "      <th>std</th>\n",
              "      <td>1.178647e+05</td>\n",
              "      <td>51.571991</td>\n",
              "      <td>69.565512</td>\n",
              "      <td>1.182697</td>\n",
              "      <td>0.851165</td>\n",
              "      <td>1049.690077</td>\n",
              "    </tr>\n",
              "    <tr>\n",
              "      <th>min</th>\n",
              "      <td>1.300000e+04</td>\n",
              "      <td>1.000000</td>\n",
              "      <td>0.000000</td>\n",
              "      <td>1.000000</td>\n",
              "      <td>1.000000</td>\n",
              "      <td>520.000000</td>\n",
              "    </tr>\n",
              "    <tr>\n",
              "      <th>25%</th>\n",
              "      <td>2.140000e+05</td>\n",
              "      <td>6.000000</td>\n",
              "      <td>0.000000</td>\n",
              "      <td>3.000000</td>\n",
              "      <td>2.000000</td>\n",
              "      <td>1583.000000</td>\n",
              "    </tr>\n",
              "    <tr>\n",
              "      <th>50%</th>\n",
              "      <td>2.600000e+05</td>\n",
              "      <td>23.000000</td>\n",
              "      <td>0.000000</td>\n",
              "      <td>4.000000</td>\n",
              "      <td>3.000000</td>\n",
              "      <td>2141.000000</td>\n",
              "    </tr>\n",
              "    <tr>\n",
              "      <th>75%</th>\n",
              "      <td>3.249000e+05</td>\n",
              "      <td>56.000000</td>\n",
              "      <td>65.000000</td>\n",
              "      <td>5.000000</td>\n",
              "      <td>3.000000</td>\n",
              "      <td>2941.750000</td>\n",
              "    </tr>\n",
              "    <tr>\n",
              "      <th>max</th>\n",
              "      <td>1.900000e+06</td>\n",
              "      <td>712.000000</td>\n",
              "      <td>1050.000000</td>\n",
              "      <td>9.000000</td>\n",
              "      <td>7.000000</td>\n",
              "      <td>10890.000000</td>\n",
              "    </tr>\n",
              "  </tbody>\n",
              "</table>\n",
              "</div>\n",
              "    <div class=\"colab-df-buttons\">\n",
              "\n",
              "  <div class=\"colab-df-container\">\n",
              "    <button class=\"colab-df-convert\" onclick=\"convertToInteractive('df-6479e572-7e20-4781-a01d-b14c8577cb30')\"\n",
              "            title=\"Convert this dataframe to an interactive table.\"\n",
              "            style=\"display:none;\">\n",
              "\n",
              "  <svg xmlns=\"http://www.w3.org/2000/svg\" height=\"24px\" viewBox=\"0 -960 960 960\">\n",
              "    <path d=\"M120-120v-720h720v720H120Zm60-500h600v-160H180v160Zm220 220h160v-160H400v160Zm0 220h160v-160H400v160ZM180-400h160v-160H180v160Zm440 0h160v-160H620v160ZM180-180h160v-160H180v160Zm440 0h160v-160H620v160Z\"/>\n",
              "  </svg>\n",
              "    </button>\n",
              "\n",
              "  <style>\n",
              "    .colab-df-container {\n",
              "      display:flex;\n",
              "      gap: 12px;\n",
              "    }\n",
              "\n",
              "    .colab-df-convert {\n",
              "      background-color: #E8F0FE;\n",
              "      border: none;\n",
              "      border-radius: 50%;\n",
              "      cursor: pointer;\n",
              "      display: none;\n",
              "      fill: #1967D2;\n",
              "      height: 32px;\n",
              "      padding: 0 0 0 0;\n",
              "      width: 32px;\n",
              "    }\n",
              "\n",
              "    .colab-df-convert:hover {\n",
              "      background-color: #E2EBFA;\n",
              "      box-shadow: 0px 1px 2px rgba(60, 64, 67, 0.3), 0px 1px 3px 1px rgba(60, 64, 67, 0.15);\n",
              "      fill: #174EA6;\n",
              "    }\n",
              "\n",
              "    .colab-df-buttons div {\n",
              "      margin-bottom: 4px;\n",
              "    }\n",
              "\n",
              "    [theme=dark] .colab-df-convert {\n",
              "      background-color: #3B4455;\n",
              "      fill: #D2E3FC;\n",
              "    }\n",
              "\n",
              "    [theme=dark] .colab-df-convert:hover {\n",
              "      background-color: #434B5C;\n",
              "      box-shadow: 0px 1px 3px 1px rgba(0, 0, 0, 0.15);\n",
              "      filter: drop-shadow(0px 1px 2px rgba(0, 0, 0, 0.3));\n",
              "      fill: #FFFFFF;\n",
              "    }\n",
              "  </style>\n",
              "\n",
              "    <script>\n",
              "      const buttonEl =\n",
              "        document.querySelector('#df-6479e572-7e20-4781-a01d-b14c8577cb30 button.colab-df-convert');\n",
              "      buttonEl.style.display =\n",
              "        google.colab.kernel.accessAllowed ? 'block' : 'none';\n",
              "\n",
              "      async function convertToInteractive(key) {\n",
              "        const element = document.querySelector('#df-6479e572-7e20-4781-a01d-b14c8577cb30');\n",
              "        const dataTable =\n",
              "          await google.colab.kernel.invokeFunction('convertToInteractive',\n",
              "                                                    [key], {});\n",
              "        if (!dataTable) return;\n",
              "\n",
              "        const docLinkHtml = 'Like what you see? Visit the ' +\n",
              "          '<a target=\"_blank\" href=https://colab.research.google.com/notebooks/data_table.ipynb>data table notebook</a>'\n",
              "          + ' to learn more about interactive tables.';\n",
              "        element.innerHTML = '';\n",
              "        dataTable['output_type'] = 'display_data';\n",
              "        await google.colab.output.renderOutput(dataTable, element);\n",
              "        const docLink = document.createElement('div');\n",
              "        docLink.innerHTML = docLinkHtml;\n",
              "        element.appendChild(docLink);\n",
              "      }\n",
              "    </script>\n",
              "  </div>\n",
              "\n",
              "\n",
              "<div id=\"df-0e1c55a1-66fb-49ac-bccf-0b41b9c9c0c8\">\n",
              "  <button class=\"colab-df-quickchart\" onclick=\"quickchart('df-0e1c55a1-66fb-49ac-bccf-0b41b9c9c0c8')\"\n",
              "            title=\"Suggest charts\"\n",
              "            style=\"display:none;\">\n",
              "\n",
              "<svg xmlns=\"http://www.w3.org/2000/svg\" height=\"24px\"viewBox=\"0 0 24 24\"\n",
              "     width=\"24px\">\n",
              "    <g>\n",
              "        <path d=\"M19 3H5c-1.1 0-2 .9-2 2v14c0 1.1.9 2 2 2h14c1.1 0 2-.9 2-2V5c0-1.1-.9-2-2-2zM9 17H7v-7h2v7zm4 0h-2V7h2v10zm4 0h-2v-4h2v4z\"/>\n",
              "    </g>\n",
              "</svg>\n",
              "  </button>\n",
              "\n",
              "<style>\n",
              "  .colab-df-quickchart {\n",
              "      --bg-color: #E8F0FE;\n",
              "      --fill-color: #1967D2;\n",
              "      --hover-bg-color: #E2EBFA;\n",
              "      --hover-fill-color: #174EA6;\n",
              "      --disabled-fill-color: #AAA;\n",
              "      --disabled-bg-color: #DDD;\n",
              "  }\n",
              "\n",
              "  [theme=dark] .colab-df-quickchart {\n",
              "      --bg-color: #3B4455;\n",
              "      --fill-color: #D2E3FC;\n",
              "      --hover-bg-color: #434B5C;\n",
              "      --hover-fill-color: #FFFFFF;\n",
              "      --disabled-bg-color: #3B4455;\n",
              "      --disabled-fill-color: #666;\n",
              "  }\n",
              "\n",
              "  .colab-df-quickchart {\n",
              "    background-color: var(--bg-color);\n",
              "    border: none;\n",
              "    border-radius: 50%;\n",
              "    cursor: pointer;\n",
              "    display: none;\n",
              "    fill: var(--fill-color);\n",
              "    height: 32px;\n",
              "    padding: 0;\n",
              "    width: 32px;\n",
              "  }\n",
              "\n",
              "  .colab-df-quickchart:hover {\n",
              "    background-color: var(--hover-bg-color);\n",
              "    box-shadow: 0 1px 2px rgba(60, 64, 67, 0.3), 0 1px 3px 1px rgba(60, 64, 67, 0.15);\n",
              "    fill: var(--button-hover-fill-color);\n",
              "  }\n",
              "\n",
              "  .colab-df-quickchart-complete:disabled,\n",
              "  .colab-df-quickchart-complete:disabled:hover {\n",
              "    background-color: var(--disabled-bg-color);\n",
              "    fill: var(--disabled-fill-color);\n",
              "    box-shadow: none;\n",
              "  }\n",
              "\n",
              "  .colab-df-spinner {\n",
              "    border: 2px solid var(--fill-color);\n",
              "    border-color: transparent;\n",
              "    border-bottom-color: var(--fill-color);\n",
              "    animation:\n",
              "      spin 1s steps(1) infinite;\n",
              "  }\n",
              "\n",
              "  @keyframes spin {\n",
              "    0% {\n",
              "      border-color: transparent;\n",
              "      border-bottom-color: var(--fill-color);\n",
              "      border-left-color: var(--fill-color);\n",
              "    }\n",
              "    20% {\n",
              "      border-color: transparent;\n",
              "      border-left-color: var(--fill-color);\n",
              "      border-top-color: var(--fill-color);\n",
              "    }\n",
              "    30% {\n",
              "      border-color: transparent;\n",
              "      border-left-color: var(--fill-color);\n",
              "      border-top-color: var(--fill-color);\n",
              "      border-right-color: var(--fill-color);\n",
              "    }\n",
              "    40% {\n",
              "      border-color: transparent;\n",
              "      border-right-color: var(--fill-color);\n",
              "      border-top-color: var(--fill-color);\n",
              "    }\n",
              "    60% {\n",
              "      border-color: transparent;\n",
              "      border-right-color: var(--fill-color);\n",
              "    }\n",
              "    80% {\n",
              "      border-color: transparent;\n",
              "      border-right-color: var(--fill-color);\n",
              "      border-bottom-color: var(--fill-color);\n",
              "    }\n",
              "    90% {\n",
              "      border-color: transparent;\n",
              "      border-bottom-color: var(--fill-color);\n",
              "    }\n",
              "  }\n",
              "</style>\n",
              "\n",
              "  <script>\n",
              "    async function quickchart(key) {\n",
              "      const quickchartButtonEl =\n",
              "        document.querySelector('#' + key + ' button');\n",
              "      quickchartButtonEl.disabled = true;  // To prevent multiple clicks.\n",
              "      quickchartButtonEl.classList.add('colab-df-spinner');\n",
              "      try {\n",
              "        const charts = await google.colab.kernel.invokeFunction(\n",
              "            'suggestCharts', [key], {});\n",
              "      } catch (error) {\n",
              "        console.error('Error during call to suggestCharts:', error);\n",
              "      }\n",
              "      quickchartButtonEl.classList.remove('colab-df-spinner');\n",
              "      quickchartButtonEl.classList.add('colab-df-quickchart-complete');\n",
              "    }\n",
              "    (() => {\n",
              "      let quickchartButtonEl =\n",
              "        document.querySelector('#df-0e1c55a1-66fb-49ac-bccf-0b41b9c9c0c8 button');\n",
              "      quickchartButtonEl.style.display =\n",
              "        google.colab.kernel.accessAllowed ? 'block' : 'none';\n",
              "    })();\n",
              "  </script>\n",
              "</div>\n",
              "\n",
              "    </div>\n",
              "  </div>\n"
            ],
            "application/vnd.google.colaboratory.intrinsic+json": {
              "type": "dataframe",
              "summary": "{\n  \"name\": \"df\",\n  \"rows\": 8,\n  \"fields\": [\n    {\n      \"column\": \"Sold Price\",\n      \"properties\": {\n        \"dtype\": \"number\",\n        \"std\": 622087.1179222456,\n        \"min\": 4110.0,\n        \"max\": 1900000.0,\n        \"num_unique_values\": 8,\n        \"samples\": [\n          282125.2454987835,\n          260000.0,\n          4110.0\n        ],\n        \"semantic_type\": \"\",\n        \"description\": \"\"\n      }\n    },\n    {\n      \"column\": \"DOM\",\n      \"properties\": {\n        \"dtype\": \"number\",\n        \"std\": 1428.3805401026534,\n        \"min\": 1.0,\n        \"max\": 4110.0,\n        \"num_unique_values\": 8,\n        \"samples\": [\n          40.55060827250608,\n          23.0,\n          4110.0\n        ],\n        \"semantic_type\": \"\",\n        \"description\": \"\"\n      }\n    },\n    {\n      \"column\": \"HOA Fee\",\n      \"properties\": {\n        \"dtype\": \"number\",\n        \"std\": 1436.904881709342,\n        \"min\": 0.0,\n        \"max\": 4110.0,\n        \"num_unique_values\": 6,\n        \"samples\": [\n          4110.0,\n          36.17834549878346,\n          1050.0\n        ],\n        \"semantic_type\": \"\",\n        \"description\": \"\"\n      }\n    },\n    {\n      \"column\": \"Total Bedrooms\",\n      \"properties\": {\n        \"dtype\": \"number\",\n        \"std\": 1451.7426905753453,\n        \"min\": 1.0,\n        \"max\": 4110.0,\n        \"num_unique_values\": 8,\n        \"samples\": [\n          3.821167883211679,\n          4.0,\n          4110.0\n        ],\n        \"semantic_type\": \"\",\n        \"description\": \"\"\n      }\n    },\n    {\n      \"column\": \"Total Bathrooms\",\n      \"properties\": {\n        \"dtype\": \"number\",\n        \"std\": 1452.124397555594,\n        \"min\": 0.8511649526939901,\n        \"max\": 4110.0,\n        \"num_unique_values\": 7,\n        \"samples\": [\n          4110.0,\n          2.5773722627737228,\n          3.0\n        ],\n        \"semantic_type\": \"\",\n        \"description\": \"\"\n      }\n    },\n    {\n      \"column\": \"Total Square Feet\",\n      \"properties\": {\n        \"dtype\": \"number\",\n        \"std\": 3300.681289758872,\n        \"min\": 520.0,\n        \"max\": 10890.0,\n        \"num_unique_values\": 8,\n        \"samples\": [\n          2370.4294403892945,\n          2141.0,\n          4110.0\n        ],\n        \"semantic_type\": \"\",\n        \"description\": \"\"\n      }\n    }\n  ]\n}"
            }
          },
          "metadata": {},
          "execution_count": 7
        }
      ]
    },
    {
      "cell_type": "markdown",
      "source": [
        "The range of DOM is 1.0 day to 712.0 days."
      ],
      "metadata": {
        "id": "3k2fSerVPGYe"
      }
    },
    {
      "cell_type": "markdown",
      "source": [
        "2."
      ],
      "metadata": {
        "id": "ZGavYRLVPKnT"
      }
    },
    {
      "cell_type": "code",
      "source": [
        "plt.figure(figsize=(12,5))\n",
        "sns.distplot(df['DOM'], bins=30 , rug=True)\n",
        "plt.show()"
      ],
      "metadata": {
        "colab": {
          "base_uri": "https://localhost:8080/",
          "height": 295
        },
        "id": "5kCQM_KePFVP",
        "outputId": "c5b500af-49bd-4b5d-d5ed-3c4f2e7d1012"
      },
      "execution_count": null,
      "outputs": [
        {
          "output_type": "display_data",
          "data": {
            "text/plain": [
              "<Figure size 1200x500 with 1 Axes>"
            ],
            "image/png": "[encoded data removed]"
          },
          "metadata": {}
        }
      ]
    },
    {
      "cell_type": "markdown",
      "source": [
        "From this plot we can see that DOM is not normally distributed and is quite right skewed."
      ],
      "metadata": {
        "id": "JgGua_5jPV0x"
      }
    },
    {
      "cell_type": "markdown",
      "source": [
        "3."
      ],
      "metadata": {
        "id": "WlFVUxZKPtIZ"
      }
    },
    {
      "cell_type": "code",
      "source": [
        "df['log_DOM'] = np.log(df['DOM'])\n",
        "plt.figure(figsize=(12,5))\n",
        "sns.distplot(df['log_DOM'], bins=30 , rug=True)\n",
        "plt.show()"
      ],
      "metadata": {
        "colab": {
          "base_uri": "https://localhost:8080/",
          "height": 298
        },
        "id": "bkp-JgccPTd2",
        "outputId": "608ac86d-35f1-4f3e-933e-afa18f4b39f7"
      },
      "execution_count": null,
      "outputs": [
        {
          "output_type": "display_data",
          "data": {
            "text/plain": [
              "<Figure size 1200x500 with 1 Axes>"
            ],
            "image/png": "[encoded data removed]"
          },
          "metadata": {}
        }
      ]
    },
    {
      "cell_type": "markdown",
      "source": [
        "Log_DOM is still not perfectly normally distributed, but it is more normal and much less skewed."
      ],
      "metadata": {
        "id": "GdoKUEXUP1PI"
      }
    },
    {
      "cell_type": "markdown",
      "source": [
        "### 6."
      ],
      "metadata": {
        "id": "vX34yzFWP9MP"
      }
    },
    {
      "cell_type": "code",
      "source": [
        "df.columns = df.columns.str.replace(' ', '_')\n",
        "df.columns"
      ],
      "metadata": {
        "colab": {
          "base_uri": "https://localhost:8080/"
        },
        "id": "bKRGYNO0PpeF",
        "outputId": "12c77cf2-ccc0-4d64-a44b-ac8fe27f851a"
      },
      "execution_count": null,
      "outputs": [
        {
          "output_type": "execute_result",
          "data": {
            "text/plain": [
              "Index(['Sold_Price', 'DOM', 'HOA_Fee', 'Quadrant', 'School_District',\n",
              "       'Total_Bedrooms', 'Total_Bathrooms', 'Total_Square_Feet',\n",
              "       'built_after_2000', 'log_DOM'],\n",
              "      dtype='object')"
            ]
          },
          "metadata": {},
          "execution_count": 10
        }
      ]
    },
    {
      "cell_type": "markdown",
      "source": [
        "### 7."
      ],
      "metadata": {
        "id": "MZKB6UvrQUjE"
      }
    },
    {
      "cell_type": "markdown",
      "source": [
        "1."
      ],
      "metadata": {
        "id": "m05XILeWQZjH"
      }
    },
    {
      "cell_type": "code",
      "source": [
        "reg1 = smf.ols(formula= \"DOM ~ Sold_Price + HOA_Fee + Quadrant + School_District + Total_Bedrooms + Total_Bathrooms + Total_Square_Feet + built_after_2000\", data=df).fit()"
      ],
      "metadata": {
        "id": "LDReU29NQStJ"
      },
      "execution_count": null,
      "outputs": []
    },
    {
      "cell_type": "markdown",
      "source": [
        "2."
      ],
      "metadata": {
        "id": "bgeisPKbQ2pE"
      }
    },
    {
      "cell_type": "code",
      "source": [
        "reg2 = smf.ols(formula= \"log_DOM ~ Sold_Price + HOA_Fee + Quadrant + School_District + Total_Bedrooms + Total_Bathrooms + Total_Square_Feet + built_after_2000\", data=df).fit()"
      ],
      "metadata": {
        "id": "Fuqse0TdQzAG"
      },
      "execution_count": null,
      "outputs": []
    },
    {
      "cell_type": "markdown",
      "source": [
        "3."
      ],
      "metadata": {
        "id": "HU-lS4OKRK3G"
      }
    },
    {
      "cell_type": "code",
      "source": [
        "reg1.summary()"
      ],
      "metadata": {
        "colab": {
          "base_uri": "https://localhost:8080/",
          "height": 679
        },
        "id": "gFOFTTG_Q4Sh",
        "outputId": "9585c646-28bb-4f8b-c20b-2936599d5368"
      },
      "execution_count": null,
      "outputs": [
        {
          "output_type": "execute_result",
          "data": {
            "text/plain": [
              "<class 'statsmodels.iolib.summary.Summary'>\n",
              "\"\"\"\n",
              "                            OLS Regression Results                            \n",
              "==============================================================================\n",
              "Dep. Variable:                    DOM   R-squared:                       0.104\n",
              "Model:                            OLS   Adj. R-squared:                  0.102\n",
              "Method:                 Least Squares   F-statistic:                     47.45\n",
              "Date:                Tue, 17 Sep 2024   Prob (F-statistic):           2.73e-90\n",
              "Time:                        20:45:35   Log-Likelihood:                -21812.\n",
              "No. Observations:                4110   AIC:                         4.365e+04\n",
              "Df Residuals:                    4099   BIC:                         4.372e+04\n",
              "Df Model:                          10                                         \n",
              "Covariance Type:            nonrobust                                         \n",
              "============================================================================================\n",
              "                               coef    std err          t      P>|t|      [0.025      0.975]\n",
              "--------------------------------------------------------------------------------------------\n",
              "Intercept                   17.4482      3.664      4.762      0.000      10.264      24.632\n",
              "Quadrant[T.NW]              -1.3290      2.334     -0.569      0.569      -5.905       3.247\n",
              "Quadrant[T.SE]              -4.0166      2.148     -1.870      0.062      -8.228       0.195\n",
              "Quadrant[T.SW]              -4.2135      2.151     -1.959      0.050      -8.430       0.003\n",
              "School_District[T.Logan]    -6.4084      1.834     -3.494      0.000     -10.004      -2.813\n",
              "built_after_2000[T.1]        4.9188      1.824      2.696      0.007       1.342       8.496\n",
              "Sold_Price               -1.894e-05   1.23e-05     -1.540      0.124   -4.31e-05    5.18e-06\n",
              "HOA_Fee                      0.0586      0.012      4.780      0.000       0.035       0.083\n",
              "Total_Bedrooms              -4.6591      0.923     -5.048      0.000      -6.468      -2.850\n",
              "Total_Bathrooms              1.2421      1.285      0.967      0.334      -1.277       3.761\n",
              "Total_Square_Feet            0.0181      0.002     11.644      0.000       0.015       0.021\n",
              "==============================================================================\n",
              "Omnibus:                     2550.291   Durbin-Watson:                   0.386\n",
              "Prob(Omnibus):                  0.000   Jarque-Bera (JB):            41181.563\n",
              "Skew:                           2.684   Prob(JB):                         0.00\n",
              "Kurtosis:                      17.549   Cond. No.                     1.66e+06\n",
              "==============================================================================\n",
              "\n",
              "Notes:\n",
              "[1] Standard Errors assume that the covariance matrix of the errors is correctly specified.\n",
              "[2] The condition number is large, 1.66e+06. This might indicate that there are\n",
              "strong multicollinearity or other numerical problems.\n",
              "\"\"\""
            ],
            "text/html": [
              "<table class=\"simpletable\">\n",
              "<caption>OLS Regression Results</caption>\n",
              "<tr>\n",
              "  <th>Dep. Variable:</th>           <td>DOM</td>       <th>  R-squared:         </th> <td>   0.104</td> \n",
              "</tr>\n",
              "<tr>\n",
              "  <th>Model:</th>                   <td>OLS</td>       <th>  Adj. R-squared:    </th> <td>   0.102</td> \n",
              "</tr>\n",
              "<tr>\n",
              "  <th>Method:</th>             <td>Least Squares</td>  <th>  F-statistic:       </th> <td>   47.45</td> \n",
              "</tr>\n",
              "<tr>\n",
              "  <th>Date:</th>             <td>Tue, 17 Sep 2024</td> <th>  Prob (F-statistic):</th> <td>2.73e-90</td> \n",
              "</tr>\n",
              "<tr>\n",
              "  <th>Time:</th>                 <td>20:45:35</td>     <th>  Log-Likelihood:    </th> <td> -21812.</td> \n",
              "</tr>\n",
              "<tr>\n",
              "  <th>No. Observations:</th>      <td>  4110</td>      <th>  AIC:               </th> <td>4.365e+04</td>\n",
              "</tr>\n",
              "<tr>\n",
              "  <th>Df Residuals:</th>          <td>  4099</td>      <th>  BIC:               </th> <td>4.372e+04</td>\n",
              "</tr>\n",
              "<tr>\n",
              "  <th>Df Model:</th>              <td>    10</td>      <th>                     </th>     <td> </td>    \n",
              "</tr>\n",
              "<tr>\n",
              "  <th>Covariance Type:</th>      <td>nonrobust</td>    <th>                     </th>     <td> </td>    \n",
              "</tr>\n",
              "</table>\n",
              "<table class=\"simpletable\">\n",
              "<tr>\n",
              "              <td></td>                <th>coef</th>     <th>std err</th>      <th>t</th>      <th>P>|t|</th>  <th>[0.025</th>    <th>0.975]</th>  \n",
              "</tr>\n",
              "<tr>\n",
              "  <th>Intercept</th>                <td>   17.4482</td> <td>    3.664</td> <td>    4.762</td> <td> 0.000</td> <td>   10.264</td> <td>   24.632</td>\n",
              "</tr>\n",
              "<tr>\n",
              "  <th>Quadrant[T.NW]</th>           <td>   -1.3290</td> <td>    2.334</td> <td>   -0.569</td> <td> 0.569</td> <td>   -5.905</td> <td>    3.247</td>\n",
              "</tr>\n",
              "<tr>\n",
              "  <th>Quadrant[T.SE]</th>           <td>   -4.0166</td> <td>    2.148</td> <td>   -1.870</td> <td> 0.062</td> <td>   -8.228</td> <td>    0.195</td>\n",
              "</tr>\n",
              "<tr>\n",
              "  <th>Quadrant[T.SW]</th>           <td>   -4.2135</td> <td>    2.151</td> <td>   -1.959</td> <td> 0.050</td> <td>   -8.430</td> <td>    0.003</td>\n",
              "</tr>\n",
              "<tr>\n",
              "  <th>School_District[T.Logan]</th> <td>   -6.4084</td> <td>    1.834</td> <td>   -3.494</td> <td> 0.000</td> <td>  -10.004</td> <td>   -2.813</td>\n",
              "</tr>\n",
              "<tr>\n",
              "  <th>built_after_2000[T.1]</th>    <td>    4.9188</td> <td>    1.824</td> <td>    2.696</td> <td> 0.007</td> <td>    1.342</td> <td>    8.496</td>\n",
              "</tr>\n",
              "<tr>\n",
              "  <th>Sold_Price</th>               <td>-1.894e-05</td> <td> 1.23e-05</td> <td>   -1.540</td> <td> 0.124</td> <td>-4.31e-05</td> <td> 5.18e-06</td>\n",
              "</tr>\n",
              "<tr>\n",
              "  <th>HOA_Fee</th>                  <td>    0.0586</td> <td>    0.012</td> <td>    4.780</td> <td> 0.000</td> <td>    0.035</td> <td>    0.083</td>\n",
              "</tr>\n",
              "<tr>\n",
              "  <th>Total_Bedrooms</th>           <td>   -4.6591</td> <td>    0.923</td> <td>   -5.048</td> <td> 0.000</td> <td>   -6.468</td> <td>   -2.850</td>\n",
              "</tr>\n",
              "<tr>\n",
              "  <th>Total_Bathrooms</th>          <td>    1.2421</td> <td>    1.285</td> <td>    0.967</td> <td> 0.334</td> <td>   -1.277</td> <td>    3.761</td>\n",
              "</tr>\n",
              "<tr>\n",
              "  <th>Total_Square_Feet</th>        <td>    0.0181</td> <td>    0.002</td> <td>   11.644</td> <td> 0.000</td> <td>    0.015</td> <td>    0.021</td>\n",
              "</tr>\n",
              "</table>\n",
              "<table class=\"simpletable\">\n",
              "<tr>\n",
              "  <th>Omnibus:</th>       <td>2550.291</td> <th>  Durbin-Watson:     </th> <td>   0.386</td> \n",
              "</tr>\n",
              "<tr>\n",
              "  <th>Prob(Omnibus):</th>  <td> 0.000</td>  <th>  Jarque-Bera (JB):  </th> <td>41181.563</td>\n",
              "</tr>\n",
              "<tr>\n",
              "  <th>Skew:</th>           <td> 2.684</td>  <th>  Prob(JB):          </th> <td>    0.00</td> \n",
              "</tr>\n",
              "<tr>\n",
              "  <th>Kurtosis:</th>       <td>17.549</td>  <th>  Cond. No.          </th> <td>1.66e+06</td> \n",
              "</tr>\n",
              "</table><br/><br/>Notes:<br/>[1] Standard Errors assume that the covariance matrix of the errors is correctly specified.<br/>[2] The condition number is large, 1.66e+06. This might indicate that there are<br/>strong multicollinearity or other numerical problems."
            ],
            "text/latex": "\\begin{center}\n\\begin{tabular}{lclc}\n\\toprule\n\\textbf{Dep. Variable:}            &       DOM        & \\textbf{  R-squared:         } &     0.104   \\\\\n\\textbf{Model:}                    &       OLS        & \\textbf{  Adj. R-squared:    } &     0.102   \\\\\n\\textbf{Method:}                   &  Least Squares   & \\textbf{  F-statistic:       } &     47.45   \\\\\n\\textbf{Date:}                     & Tue, 17 Sep 2024 & \\textbf{  Prob (F-statistic):} &  2.73e-90   \\\\\n\\textbf{Time:}                     &     20:45:35     & \\textbf{  Log-Likelihood:    } &   -21812.   \\\\\n\\textbf{No. Observations:}         &        4110      & \\textbf{  AIC:               } & 4.365e+04   \\\\\n\\textbf{Df Residuals:}             &        4099      & \\textbf{  BIC:               } & 4.372e+04   \\\\\n\\textbf{Df Model:}                 &          10      & \\textbf{                     } &             \\\\\n\\textbf{Covariance Type:}          &    nonrobust     & \\textbf{                     } &             \\\\\n\\bottomrule\n\\end{tabular}\n\\begin{tabular}{lcccccc}\n                                   & \\textbf{coef} & \\textbf{std err} & \\textbf{t} & \\textbf{P$> |$t$|$} & \\textbf{[0.025} & \\textbf{0.975]}  \\\\\n\\midrule\n\\textbf{Intercept}                 &      17.4482  &        3.664     &     4.762  &         0.000        &       10.264    &       24.632     \\\\\n\\textbf{Quadrant[T.NW]}            &      -1.3290  &        2.334     &    -0.569  &         0.569        &       -5.905    &        3.247     \\\\\n\\textbf{Quadrant[T.SE]}            &      -4.0166  &        2.148     &    -1.870  &         0.062        &       -8.228    &        0.195     \\\\\n\\textbf{Quadrant[T.SW]}            &      -4.2135  &        2.151     &    -1.959  &         0.050        &       -8.430    &        0.003     \\\\\n\\textbf{School\\_District[T.Logan]} &      -6.4084  &        1.834     &    -3.494  &         0.000        &      -10.004    &       -2.813     \\\\\n\\textbf{built\\_after\\_2000[T.1]}   &       4.9188  &        1.824     &     2.696  &         0.007        &        1.342    &        8.496     \\\\\n\\textbf{Sold\\_Price}               &   -1.894e-05  &     1.23e-05     &    -1.540  &         0.124        &    -4.31e-05    &     5.18e-06     \\\\\n\\textbf{HOA\\_Fee}                  &       0.0586  &        0.012     &     4.780  &         0.000        &        0.035    &        0.083     \\\\\n\\textbf{Total\\_Bedrooms}           &      -4.6591  &        0.923     &    -5.048  &         0.000        &       -6.468    &       -2.850     \\\\\n\\textbf{Total\\_Bathrooms}          &       1.2421  &        1.285     &     0.967  &         0.334        &       -1.277    &        3.761     \\\\\n\\textbf{Total\\_Square\\_Feet}       &       0.0181  &        0.002     &    11.644  &         0.000        &        0.015    &        0.021     \\\\\n\\bottomrule\n\\end{tabular}\n\\begin{tabular}{lclc}\n\\textbf{Omnibus:}       & 2550.291 & \\textbf{  Durbin-Watson:     } &     0.386  \\\\\n\\textbf{Prob(Omnibus):} &   0.000  & \\textbf{  Jarque-Bera (JB):  } & 41181.563  \\\\\n\\textbf{Skew:}          &   2.684  & \\textbf{  Prob(JB):          } &      0.00  \\\\\n\\textbf{Kurtosis:}      &  17.549  & \\textbf{  Cond. No.          } &  1.66e+06  \\\\\n\\bottomrule\n\\end{tabular}\n%\\caption{OLS Regression Results}\n\\end{center}\n\nNotes: \\newline\n [1] Standard Errors assume that the covariance matrix of the errors is correctly specified. \\newline\n [2] The condition number is large, 1.66e+06. This might indicate that there are \\newline\n strong multicollinearity or other numerical problems."
          },
          "metadata": {},
          "execution_count": 13
        }
      ]
    },
    {
      "cell_type": "code",
      "source": [
        "reg2.summary()"
      ],
      "metadata": {
        "colab": {
          "base_uri": "https://localhost:8080/",
          "height": 679
        },
        "id": "Bhmq9slcRNTm",
        "outputId": "19f5d0b9-7b92-4e5b-bf3b-554110615fd4"
      },
      "execution_count": null,
      "outputs": [
        {
          "output_type": "execute_result",
          "data": {
            "text/plain": [
              "<class 'statsmodels.iolib.summary.Summary'>\n",
              "\"\"\"\n",
              "                            OLS Regression Results                            \n",
              "==============================================================================\n",
              "Dep. Variable:                log_DOM   R-squared:                       0.095\n",
              "Model:                            OLS   Adj. R-squared:                  0.093\n",
              "Method:                 Least Squares   F-statistic:                     43.11\n",
              "Date:                Tue, 17 Sep 2024   Prob (F-statistic):           6.17e-82\n",
              "Time:                        20:45:45   Log-Likelihood:                -6944.5\n",
              "No. Observations:                4110   AIC:                         1.391e+04\n",
              "Df Residuals:                    4099   BIC:                         1.398e+04\n",
              "Df Model:                          10                                         \n",
              "Covariance Type:            nonrobust                                         \n",
              "============================================================================================\n",
              "                               coef    std err          t      P>|t|      [0.025      0.975]\n",
              "--------------------------------------------------------------------------------------------\n",
              "Intercept                    2.1937      0.098     22.294      0.000       2.001       2.387\n",
              "Quadrant[T.NW]              -0.0076      0.063     -0.121      0.904      -0.130       0.115\n",
              "Quadrant[T.SE]              -0.0176      0.058     -0.305      0.760      -0.131       0.095\n",
              "Quadrant[T.SW]              -0.0928      0.058     -1.606      0.108      -0.206       0.020\n",
              "School_District[T.Logan]    -0.1889      0.049     -3.836      0.000      -0.285      -0.092\n",
              "built_after_2000[T.1]        0.2310      0.049      4.715      0.000       0.135       0.327\n",
              "Sold_Price               -1.737e-06    3.3e-07     -5.259      0.000   -2.38e-06   -1.09e-06\n",
              "HOA_Fee                      0.0013      0.000      3.823      0.000       0.001       0.002\n",
              "Total_Bedrooms              -0.0388      0.025     -1.564      0.118      -0.087       0.010\n",
              "Total_Bathrooms              0.0563      0.035      1.630      0.103      -0.011       0.124\n",
              "Total_Square_Feet            0.0005   4.18e-05     11.610      0.000       0.000       0.001\n",
              "==============================================================================\n",
              "Omnibus:                      298.242   Durbin-Watson:                   0.206\n",
              "Prob(Omnibus):                  0.000   Jarque-Bera (JB):              131.352\n",
              "Skew:                          -0.233   Prob(JB):                     3.00e-29\n",
              "Kurtosis:                       2.259   Cond. No.                     1.66e+06\n",
              "==============================================================================\n",
              "\n",
              "Notes:\n",
              "[1] Standard Errors assume that the covariance matrix of the errors is correctly specified.\n",
              "[2] The condition number is large, 1.66e+06. This might indicate that there are\n",
              "strong multicollinearity or other numerical problems.\n",
              "\"\"\""
            ],
            "text/html": [
              "<table class=\"simpletable\">\n",
              "<caption>OLS Regression Results</caption>\n",
              "<tr>\n",
              "  <th>Dep. Variable:</th>         <td>log_DOM</td>     <th>  R-squared:         </th> <td>   0.095</td> \n",
              "</tr>\n",
              "<tr>\n",
              "  <th>Model:</th>                   <td>OLS</td>       <th>  Adj. R-squared:    </th> <td>   0.093</td> \n",
              "</tr>\n",
              "<tr>\n",
              "  <th>Method:</th>             <td>Least Squares</td>  <th>  F-statistic:       </th> <td>   43.11</td> \n",
              "</tr>\n",
              "<tr>\n",
              "  <th>Date:</th>             <td>Tue, 17 Sep 2024</td> <th>  Prob (F-statistic):</th> <td>6.17e-82</td> \n",
              "</tr>\n",
              "<tr>\n",
              "  <th>Time:</th>                 <td>20:45:45</td>     <th>  Log-Likelihood:    </th> <td> -6944.5</td> \n",
              "</tr>\n",
              "<tr>\n",
              "  <th>No. Observations:</th>      <td>  4110</td>      <th>  AIC:               </th> <td>1.391e+04</td>\n",
              "</tr>\n",
              "<tr>\n",
              "  <th>Df Residuals:</th>          <td>  4099</td>      <th>  BIC:               </th> <td>1.398e+04</td>\n",
              "</tr>\n",
              "<tr>\n",
              "  <th>Df Model:</th>              <td>    10</td>      <th>                     </th>     <td> </td>    \n",
              "</tr>\n",
              "<tr>\n",
              "  <th>Covariance Type:</th>      <td>nonrobust</td>    <th>                     </th>     <td> </td>    \n",
              "</tr>\n",
              "</table>\n",
              "<table class=\"simpletable\">\n",
              "<tr>\n",
              "              <td></td>                <th>coef</th>     <th>std err</th>      <th>t</th>      <th>P>|t|</th>  <th>[0.025</th>    <th>0.975]</th>  \n",
              "</tr>\n",
              "<tr>\n",
              "  <th>Intercept</th>                <td>    2.1937</td> <td>    0.098</td> <td>   22.294</td> <td> 0.000</td> <td>    2.001</td> <td>    2.387</td>\n",
              "</tr>\n",
              "<tr>\n",
              "  <th>Quadrant[T.NW]</th>           <td>   -0.0076</td> <td>    0.063</td> <td>   -0.121</td> <td> 0.904</td> <td>   -0.130</td> <td>    0.115</td>\n",
              "</tr>\n",
              "<tr>\n",
              "  <th>Quadrant[T.SE]</th>           <td>   -0.0176</td> <td>    0.058</td> <td>   -0.305</td> <td> 0.760</td> <td>   -0.131</td> <td>    0.095</td>\n",
              "</tr>\n",
              "<tr>\n",
              "  <th>Quadrant[T.SW]</th>           <td>   -0.0928</td> <td>    0.058</td> <td>   -1.606</td> <td> 0.108</td> <td>   -0.206</td> <td>    0.020</td>\n",
              "</tr>\n",
              "<tr>\n",
              "  <th>School_District[T.Logan]</th> <td>   -0.1889</td> <td>    0.049</td> <td>   -3.836</td> <td> 0.000</td> <td>   -0.285</td> <td>   -0.092</td>\n",
              "</tr>\n",
              "<tr>\n",
              "  <th>built_after_2000[T.1]</th>    <td>    0.2310</td> <td>    0.049</td> <td>    4.715</td> <td> 0.000</td> <td>    0.135</td> <td>    0.327</td>\n",
              "</tr>\n",
              "<tr>\n",
              "  <th>Sold_Price</th>               <td>-1.737e-06</td> <td>  3.3e-07</td> <td>   -5.259</td> <td> 0.000</td> <td>-2.38e-06</td> <td>-1.09e-06</td>\n",
              "</tr>\n",
              "<tr>\n",
              "  <th>HOA_Fee</th>                  <td>    0.0013</td> <td>    0.000</td> <td>    3.823</td> <td> 0.000</td> <td>    0.001</td> <td>    0.002</td>\n",
              "</tr>\n",
              "<tr>\n",
              "  <th>Total_Bedrooms</th>           <td>   -0.0388</td> <td>    0.025</td> <td>   -1.564</td> <td> 0.118</td> <td>   -0.087</td> <td>    0.010</td>\n",
              "</tr>\n",
              "<tr>\n",
              "  <th>Total_Bathrooms</th>          <td>    0.0563</td> <td>    0.035</td> <td>    1.630</td> <td> 0.103</td> <td>   -0.011</td> <td>    0.124</td>\n",
              "</tr>\n",
              "<tr>\n",
              "  <th>Total_Square_Feet</th>        <td>    0.0005</td> <td> 4.18e-05</td> <td>   11.610</td> <td> 0.000</td> <td>    0.000</td> <td>    0.001</td>\n",
              "</tr>\n",
              "</table>\n",
              "<table class=\"simpletable\">\n",
              "<tr>\n",
              "  <th>Omnibus:</th>       <td>298.242</td> <th>  Durbin-Watson:     </th> <td>   0.206</td>\n",
              "</tr>\n",
              "<tr>\n",
              "  <th>Prob(Omnibus):</th> <td> 0.000</td>  <th>  Jarque-Bera (JB):  </th> <td> 131.352</td>\n",
              "</tr>\n",
              "<tr>\n",
              "  <th>Skew:</th>          <td>-0.233</td>  <th>  Prob(JB):          </th> <td>3.00e-29</td>\n",
              "</tr>\n",
              "<tr>\n",
              "  <th>Kurtosis:</th>      <td> 2.259</td>  <th>  Cond. No.          </th> <td>1.66e+06</td>\n",
              "</tr>\n",
              "</table><br/><br/>Notes:<br/>[1] Standard Errors assume that the covariance matrix of the errors is correctly specified.<br/>[2] The condition number is large, 1.66e+06. This might indicate that there are<br/>strong multicollinearity or other numerical problems."
            ],
            "text/latex": "\\begin{center}\n\\begin{tabular}{lclc}\n\\toprule\n\\textbf{Dep. Variable:}            &     log\\_DOM     & \\textbf{  R-squared:         } &     0.095   \\\\\n\\textbf{Model:}                    &       OLS        & \\textbf{  Adj. R-squared:    } &     0.093   \\\\\n\\textbf{Method:}                   &  Least Squares   & \\textbf{  F-statistic:       } &     43.11   \\\\\n\\textbf{Date:}                     & Tue, 17 Sep 2024 & \\textbf{  Prob (F-statistic):} &  6.17e-82   \\\\\n\\textbf{Time:}                     &     20:45:45     & \\textbf{  Log-Likelihood:    } &   -6944.5   \\\\\n\\textbf{No. Observations:}         &        4110      & \\textbf{  AIC:               } & 1.391e+04   \\\\\n\\textbf{Df Residuals:}             &        4099      & \\textbf{  BIC:               } & 1.398e+04   \\\\\n\\textbf{Df Model:}                 &          10      & \\textbf{                     } &             \\\\\n\\textbf{Covariance Type:}          &    nonrobust     & \\textbf{                     } &             \\\\\n\\bottomrule\n\\end{tabular}\n\\begin{tabular}{lcccccc}\n                                   & \\textbf{coef} & \\textbf{std err} & \\textbf{t} & \\textbf{P$> |$t$|$} & \\textbf{[0.025} & \\textbf{0.975]}  \\\\\n\\midrule\n\\textbf{Intercept}                 &       2.1937  &        0.098     &    22.294  &         0.000        &        2.001    &        2.387     \\\\\n\\textbf{Quadrant[T.NW]}            &      -0.0076  &        0.063     &    -0.121  &         0.904        &       -0.130    &        0.115     \\\\\n\\textbf{Quadrant[T.SE]}            &      -0.0176  &        0.058     &    -0.305  &         0.760        &       -0.131    &        0.095     \\\\\n\\textbf{Quadrant[T.SW]}            &      -0.0928  &        0.058     &    -1.606  &         0.108        &       -0.206    &        0.020     \\\\\n\\textbf{School\\_District[T.Logan]} &      -0.1889  &        0.049     &    -3.836  &         0.000        &       -0.285    &       -0.092     \\\\\n\\textbf{built\\_after\\_2000[T.1]}   &       0.2310  &        0.049     &     4.715  &         0.000        &        0.135    &        0.327     \\\\\n\\textbf{Sold\\_Price}               &   -1.737e-06  &      3.3e-07     &    -5.259  &         0.000        &    -2.38e-06    &    -1.09e-06     \\\\\n\\textbf{HOA\\_Fee}                  &       0.0013  &        0.000     &     3.823  &         0.000        &        0.001    &        0.002     \\\\\n\\textbf{Total\\_Bedrooms}           &      -0.0388  &        0.025     &    -1.564  &         0.118        &       -0.087    &        0.010     \\\\\n\\textbf{Total\\_Bathrooms}          &       0.0563  &        0.035     &     1.630  &         0.103        &       -0.011    &        0.124     \\\\\n\\textbf{Total\\_Square\\_Feet}       &       0.0005  &     4.18e-05     &    11.610  &         0.000        &        0.000    &        0.001     \\\\\n\\bottomrule\n\\end{tabular}\n\\begin{tabular}{lclc}\n\\textbf{Omnibus:}       & 298.242 & \\textbf{  Durbin-Watson:     } &    0.206  \\\\\n\\textbf{Prob(Omnibus):} &   0.000 & \\textbf{  Jarque-Bera (JB):  } &  131.352  \\\\\n\\textbf{Skew:}          &  -0.233 & \\textbf{  Prob(JB):          } & 3.00e-29  \\\\\n\\textbf{Kurtosis:}      &   2.259 & \\textbf{  Cond. No.          } & 1.66e+06  \\\\\n\\bottomrule\n\\end{tabular}\n%\\caption{OLS Regression Results}\n\\end{center}\n\nNotes: \\newline\n [1] Standard Errors assume that the covariance matrix of the errors is correctly specified. \\newline\n [2] The condition number is large, 1.66e+06. This might indicate that there are \\newline\n strong multicollinearity or other numerical problems."
          },
          "metadata": {},
          "execution_count": 14
        }
      ]
    },
    {
      "cell_type": "markdown",
      "source": [
        "4. Based on coefficients in regression 1, the SW quadrant is selling fastest, because its coefficient has the largest negative effect on DOM."
      ],
      "metadata": {
        "id": "fT2aWw5dRXoD"
      }
    },
    {
      "cell_type": "markdown",
      "source": [
        "5. According to regression 1, if the HOA fee increases by \\$100, holding everything else constant, the average DOM would increase by 5.86 days. This makes sense because I would expect a house to be more difficult to sell if it had a higher HOA fee, and \\$100 is quite expensive."
      ],
      "metadata": {
        "id": "e0O9-v7wR4Wj"
      }
    },
    {
      "cell_type": "markdown",
      "source": [
        "6. According to regression 2, for each added bedroom the DOM is expected to decrease by 3.88%. This makes sense, because I would expect houses with more bedrooms to usually sell faster, although I would be curious to see if that changed for very large houses with 10+ bedrooms."
      ],
      "metadata": {
        "id": "itfgItiQY08H"
      }
    },
    {
      "cell_type": "markdown",
      "source": [
        "### 8."
      ],
      "metadata": {
        "id": "Re8xajYYZNDk"
      }
    },
    {
      "cell_type": "markdown",
      "source": [
        "1."
      ],
      "metadata": {
        "id": "dtKvf636RFWM"
      }
    },
    {
      "cell_type": "code",
      "source": [
        "from statsmodels.tools import eval_measures\n",
        "\n",
        "predictions = reg1.predict()\n",
        "actuals = df.DOM\n",
        "mae = eval_measures.meanabs(actuals, predictions)\n",
        "print(f\"MAE: {mae}\")\n",
        "mse = eval_measures.mse(actuals, predictions)\n",
        "print(f\"MSE: {mse}\")\n",
        "rmse = eval_measures.rmse(actuals, predictions)\n",
        "print(f\"RMSE: {rmse}\")\n",
        "rmspe = np.sqrt(np.mean(((actuals-predictions)/actuals)**2))\n",
        "print(f\"RMSPE: {rmspe}\")"
      ],
      "metadata": {
        "id": "FpP_cSChRWia",
        "colab": {
          "base_uri": "https://localhost:8080/"
        },
        "outputId": "35385d39-5808-4424-d72c-f889cd5b46f8"
      },
      "execution_count": null,
      "outputs": [
        {
          "output_type": "stream",
          "name": "stdout",
          "text": [
            "MAE: 33.56984614164994\n",
            "MSE: 2383.127964493403\n",
            "RMSE: 48.817291654632\n",
            "RMSPE: 8.316233955432082\n"
          ]
        }
      ]
    },
    {
      "cell_type": "markdown",
      "source": [
        "2. The errors are 831% off on average."
      ],
      "metadata": {
        "id": "LJqGLxCWSmJe"
      }
    },
    {
      "cell_type": "markdown",
      "source": [
        "3. The unit for days for MAE, days<sup>2</sup> for MSE, and days for RMSE."
      ],
      "metadata": {
        "id": "meg3fCRRSnbh"
      }
    },
    {
      "cell_type": "code",
      "source": [],
      "metadata": {
        "id": "0eJORhUaCy7d"
      },
      "execution_count": null,
      "outputs": []
    }
  ]
}