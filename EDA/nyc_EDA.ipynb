{
  "cells": [
    {
      "cell_type": "code",
      "execution_count": 1,
      "metadata": {
        "id": "Y9FQSaq-6tfJ"
      },
      "outputs": [],
      "source": [
        "import warnings\n",
        "warnings.filterwarnings('ignore')"
      ]
    },
    {
      "cell_type": "code",
      "execution_count": 2,
      "metadata": {
        "id": "qTwhSd3b64kN"
      },
      "outputs": [],
      "source": [
        "import numpy as np\n",
        "import pandas as pd\n",
        "import matplotlib.pyplot as plt\n",
        "import seaborn as sns\n",
        "\n",
        "sns.set()\n",
        "rand_state=1000"
      ]
    },
    {
      "cell_type": "code",
      "execution_count": 3,
      "metadata": {
        "colab": {
          "base_uri": "https://localhost:8080/",
          "height": 311
        },
        "id": "ab3izrpP67Cz",
        "outputId": "d0c6fcbb-359d-4a67-e8dc-ff664cd1d179"
      },
      "outputs": [
        {
          "data": {
            "text/html": [
              "<div>\n",
              "<style scoped>\n",
              "    .dataframe tbody tr th:only-of-type {\n",
              "        vertical-align: middle;\n",
              "    }\n",
              "\n",
              "    .dataframe tbody tr th {\n",
              "        vertical-align: top;\n",
              "    }\n",
              "\n",
              "    .dataframe thead th {\n",
              "        text-align: right;\n",
              "    }\n",
              "</style>\n",
              "<table border=\"1\" class=\"dataframe\">\n",
              "  <thead>\n",
              "    <tr style=\"text-align: right;\">\n",
              "      <th></th>\n",
              "      <th>Unnamed: 0</th>\n",
              "      <th>BOROUGH</th>\n",
              "      <th>NEIGHBORHOOD</th>\n",
              "      <th>BUILDING CLASS CATEGORY</th>\n",
              "      <th>TAX CLASS AT PRESENT</th>\n",
              "      <th>BLOCK</th>\n",
              "      <th>LOT</th>\n",
              "      <th>EASE-MENT</th>\n",
              "      <th>BUILDING CLASS AT PRESENT</th>\n",
              "      <th>ADDRESS</th>\n",
              "      <th>...</th>\n",
              "      <th>RESIDENTIAL UNITS</th>\n",
              "      <th>COMMERCIAL UNITS</th>\n",
              "      <th>TOTAL UNITS</th>\n",
              "      <th>LAND SQUARE FEET</th>\n",
              "      <th>GROSS SQUARE FEET</th>\n",
              "      <th>YEAR BUILT</th>\n",
              "      <th>TAX CLASS AT TIME OF SALE</th>\n",
              "      <th>BUILDING CLASS AT TIME OF SALE</th>\n",
              "      <th>SALE PRICE</th>\n",
              "      <th>SALE DATE</th>\n",
              "    </tr>\n",
              "  </thead>\n",
              "  <tbody>\n",
              "    <tr>\n",
              "      <th>0</th>\n",
              "      <td>4</td>\n",
              "      <td>1</td>\n",
              "      <td>ALPHABET CITY</td>\n",
              "      <td>07 RENTALS - WALKUP APARTMENTS</td>\n",
              "      <td>2A</td>\n",
              "      <td>392</td>\n",
              "      <td>6</td>\n",
              "      <td></td>\n",
              "      <td>C2</td>\n",
              "      <td>153 AVENUE B</td>\n",
              "      <td>...</td>\n",
              "      <td>5</td>\n",
              "      <td>0</td>\n",
              "      <td>5</td>\n",
              "      <td>1633</td>\n",
              "      <td>6440</td>\n",
              "      <td>1900</td>\n",
              "      <td>2</td>\n",
              "      <td>C2</td>\n",
              "      <td>6625000</td>\n",
              "      <td>2017-07-19 00:00:00</td>\n",
              "    </tr>\n",
              "    <tr>\n",
              "      <th>1</th>\n",
              "      <td>5</td>\n",
              "      <td>1</td>\n",
              "      <td>ALPHABET CITY</td>\n",
              "      <td>07 RENTALS - WALKUP APARTMENTS</td>\n",
              "      <td>2</td>\n",
              "      <td>399</td>\n",
              "      <td>26</td>\n",
              "      <td></td>\n",
              "      <td>C7</td>\n",
              "      <td>234 EAST 4TH   STREET</td>\n",
              "      <td>...</td>\n",
              "      <td>28</td>\n",
              "      <td>3</td>\n",
              "      <td>31</td>\n",
              "      <td>4616</td>\n",
              "      <td>18690</td>\n",
              "      <td>1900</td>\n",
              "      <td>2</td>\n",
              "      <td>C7</td>\n",
              "      <td>-</td>\n",
              "      <td>2016-12-14 00:00:00</td>\n",
              "    </tr>\n",
              "    <tr>\n",
              "      <th>2</th>\n",
              "      <td>6</td>\n",
              "      <td>1</td>\n",
              "      <td>ALPHABET CITY</td>\n",
              "      <td>07 RENTALS - WALKUP APARTMENTS</td>\n",
              "      <td>2</td>\n",
              "      <td>399</td>\n",
              "      <td>39</td>\n",
              "      <td></td>\n",
              "      <td>C7</td>\n",
              "      <td>197 EAST 3RD   STREET</td>\n",
              "      <td>...</td>\n",
              "      <td>16</td>\n",
              "      <td>1</td>\n",
              "      <td>17</td>\n",
              "      <td>2212</td>\n",
              "      <td>7803</td>\n",
              "      <td>1900</td>\n",
              "      <td>2</td>\n",
              "      <td>C7</td>\n",
              "      <td>-</td>\n",
              "      <td>2016-12-09 00:00:00</td>\n",
              "    </tr>\n",
              "    <tr>\n",
              "      <th>3</th>\n",
              "      <td>7</td>\n",
              "      <td>1</td>\n",
              "      <td>ALPHABET CITY</td>\n",
              "      <td>07 RENTALS - WALKUP APARTMENTS</td>\n",
              "      <td>2B</td>\n",
              "      <td>402</td>\n",
              "      <td>21</td>\n",
              "      <td></td>\n",
              "      <td>C4</td>\n",
              "      <td>154 EAST 7TH STREET</td>\n",
              "      <td>...</td>\n",
              "      <td>10</td>\n",
              "      <td>0</td>\n",
              "      <td>10</td>\n",
              "      <td>2272</td>\n",
              "      <td>6794</td>\n",
              "      <td>1913</td>\n",
              "      <td>2</td>\n",
              "      <td>C4</td>\n",
              "      <td>3936272</td>\n",
              "      <td>2016-09-23 00:00:00</td>\n",
              "    </tr>\n",
              "    <tr>\n",
              "      <th>4</th>\n",
              "      <td>8</td>\n",
              "      <td>1</td>\n",
              "      <td>ALPHABET CITY</td>\n",
              "      <td>07 RENTALS - WALKUP APARTMENTS</td>\n",
              "      <td>2A</td>\n",
              "      <td>404</td>\n",
              "      <td>55</td>\n",
              "      <td></td>\n",
              "      <td>C2</td>\n",
              "      <td>301 EAST 10TH   STREET</td>\n",
              "      <td>...</td>\n",
              "      <td>6</td>\n",
              "      <td>0</td>\n",
              "      <td>6</td>\n",
              "      <td>2369</td>\n",
              "      <td>4615</td>\n",
              "      <td>1900</td>\n",
              "      <td>2</td>\n",
              "      <td>C2</td>\n",
              "      <td>8000000</td>\n",
              "      <td>2016-11-17 00:00:00</td>\n",
              "    </tr>\n",
              "  </tbody>\n",
              "</table>\n",
              "<p>5 rows × 22 columns</p>\n",
              "</div>"
            ],
            "text/plain": [
              "   Unnamed: 0  BOROUGH   NEIGHBORHOOD  \\\n",
              "0           4        1  ALPHABET CITY   \n",
              "1           5        1  ALPHABET CITY   \n",
              "2           6        1  ALPHABET CITY   \n",
              "3           7        1  ALPHABET CITY   \n",
              "4           8        1  ALPHABET CITY   \n",
              "\n",
              "                       BUILDING CLASS CATEGORY TAX CLASS AT PRESENT  BLOCK  \\\n",
              "0  07 RENTALS - WALKUP APARTMENTS                                2A    392   \n",
              "1  07 RENTALS - WALKUP APARTMENTS                                 2    399   \n",
              "2  07 RENTALS - WALKUP APARTMENTS                                 2    399   \n",
              "3  07 RENTALS - WALKUP APARTMENTS                                2B    402   \n",
              "4  07 RENTALS - WALKUP APARTMENTS                                2A    404   \n",
              "\n",
              "   LOT EASE-MENT BUILDING CLASS AT PRESENT                 ADDRESS  ...  \\\n",
              "0    6                                  C2            153 AVENUE B  ...   \n",
              "1   26                                  C7   234 EAST 4TH   STREET  ...   \n",
              "2   39                                  C7   197 EAST 3RD   STREET  ...   \n",
              "3   21                                  C4     154 EAST 7TH STREET  ...   \n",
              "4   55                                  C2  301 EAST 10TH   STREET  ...   \n",
              "\n",
              "  RESIDENTIAL UNITS  COMMERCIAL UNITS  TOTAL UNITS  LAND SQUARE FEET  \\\n",
              "0                 5                 0            5              1633   \n",
              "1                28                 3           31              4616   \n",
              "2                16                 1           17              2212   \n",
              "3                10                 0           10              2272   \n",
              "4                 6                 0            6              2369   \n",
              "\n",
              "   GROSS SQUARE FEET YEAR BUILT TAX CLASS AT TIME OF SALE  \\\n",
              "0               6440       1900                         2   \n",
              "1              18690       1900                         2   \n",
              "2               7803       1900                         2   \n",
              "3               6794       1913                         2   \n",
              "4               4615       1900                         2   \n",
              "\n",
              "   BUILDING CLASS AT TIME OF SALE  SALE PRICE            SALE DATE  \n",
              "0                              C2     6625000  2017-07-19 00:00:00  \n",
              "1                              C7         -    2016-12-14 00:00:00  \n",
              "2                              C7         -    2016-12-09 00:00:00  \n",
              "3                              C4     3936272  2016-09-23 00:00:00  \n",
              "4                              C2     8000000  2016-11-17 00:00:00  \n",
              "\n",
              "[5 rows x 22 columns]"
            ]
          },
          "execution_count": 3,
          "metadata": {},
          "output_type": "execute_result"
        }
      ],
      "source": [
        "df = pd.read_csv('nyc-rolling-sales.csv')\n",
        "df.head()"
      ]
    },
    {
      "cell_type": "code",
      "execution_count": 4,
      "metadata": {
        "id": "D16IN48d69Mv"
      },
      "outputs": [
        {
          "name": "stdout",
          "output_type": "stream",
          "text": [
            "<class 'pandas.core.frame.DataFrame'>\n",
            "RangeIndex: 84548 entries, 0 to 84547\n",
            "Data columns (total 22 columns):\n",
            " #   Column                          Non-Null Count  Dtype \n",
            "---  ------                          --------------  ----- \n",
            " 0   Unnamed: 0                      84548 non-null  int64 \n",
            " 1   BOROUGH                         84548 non-null  int64 \n",
            " 2   NEIGHBORHOOD                    84548 non-null  object\n",
            " 3   BUILDING CLASS CATEGORY         84548 non-null  object\n",
            " 4   TAX CLASS AT PRESENT            84548 non-null  object\n",
            " 5   BLOCK                           84548 non-null  int64 \n",
            " 6   LOT                             84548 non-null  int64 \n",
            " 7   EASE-MENT                       84548 non-null  object\n",
            " 8   BUILDING CLASS AT PRESENT       84548 non-null  object\n",
            " 9   ADDRESS                         84548 non-null  object\n",
            " 10  APARTMENT NUMBER                84548 non-null  object\n",
            " 11  ZIP CODE                        84548 non-null  int64 \n",
            " 12  RESIDENTIAL UNITS               84548 non-null  int64 \n",
            " 13  COMMERCIAL UNITS                84548 non-null  int64 \n",
            " 14  TOTAL UNITS                     84548 non-null  int64 \n",
            " 15  LAND SQUARE FEET                84548 non-null  object\n",
            " 16  GROSS SQUARE FEET               84548 non-null  object\n",
            " 17  YEAR BUILT                      84548 non-null  int64 \n",
            " 18  TAX CLASS AT TIME OF SALE       84548 non-null  int64 \n",
            " 19  BUILDING CLASS AT TIME OF SALE  84548 non-null  object\n",
            " 20  SALE PRICE                      84548 non-null  object\n",
            " 21  SALE DATE                       84548 non-null  object\n",
            "dtypes: int64(10), object(12)\n",
            "memory usage: 14.2+ MB\n"
          ]
        }
      ],
      "source": [
        "df.info()"
      ]
    },
    {
      "cell_type": "code",
      "execution_count": 5,
      "metadata": {
        "id": "dBRL-n_T7y1w"
      },
      "outputs": [
        {
          "data": {
            "text/plain": [
              "Unnamed: 0                        26736\n",
              "BOROUGH                               5\n",
              "NEIGHBORHOOD                        254\n",
              "BUILDING CLASS CATEGORY              47\n",
              "TAX CLASS AT PRESENT                 11\n",
              "BLOCK                             11566\n",
              "LOT                                2627\n",
              "EASE-MENT                             1\n",
              "BUILDING CLASS AT PRESENT           167\n",
              "ADDRESS                           67563\n",
              "APARTMENT NUMBER                   3989\n",
              "ZIP CODE                            186\n",
              "RESIDENTIAL UNITS                   176\n",
              "COMMERCIAL UNITS                     55\n",
              "TOTAL UNITS                         192\n",
              "LAND SQUARE FEET                   6062\n",
              "GROSS SQUARE FEET                  5691\n",
              "YEAR BUILT                          158\n",
              "TAX CLASS AT TIME OF SALE             4\n",
              "BUILDING CLASS AT TIME OF SALE      166\n",
              "SALE PRICE                        10008\n",
              "SALE DATE                           364\n",
              "dtype: int64"
            ]
          },
          "execution_count": 5,
          "metadata": {},
          "output_type": "execute_result"
        }
      ],
      "source": [
        "df.nunique()"
      ]
    },
    {
      "cell_type": "markdown",
      "metadata": {
        "id": "Mg-KEC7qQKkB"
      },
      "source": [
        "Unnamed won't tell us anything in our analysis, it looks like just an index column."
      ]
    },
    {
      "cell_type": "code",
      "execution_count": 6,
      "metadata": {
        "id": "2C0jBjiC77lV"
      },
      "outputs": [],
      "source": [
        "df.drop('Unnamed: 0', axis=1, inplace=True)"
      ]
    },
    {
      "cell_type": "markdown",
      "metadata": {
        "id": "Y7hr1TLgQVI0"
      },
      "source": [
        "Constructing our variable types: SALE DATE as date, then our numerics and categoricals."
      ]
    },
    {
      "cell_type": "code",
      "execution_count": 7,
      "metadata": {
        "id": "rzLYCYmd9GgY"
      },
      "outputs": [],
      "source": [
        "df['SALE DATE'] = pd.to_datetime(df['SALE DATE'], errors='coerce')"
      ]
    },
    {
      "cell_type": "code",
      "execution_count": 8,
      "metadata": {
        "id": "nrNHcsnh-Qbv"
      },
      "outputs": [],
      "source": [
        "numerics = [\"RESIDENTIAL UNITS\", \"COMMERCIAL UNITS\", \"TOTAL UNITS\", \"LAND SQUARE FEET\", \"GROSS SQUARE FEET\", \"SALE PRICE\"]\n",
        "categoricals = [\"BOROUGH\", \"NEIGHBORHOOD\", \"BUILDING CLASS CATEGORY\", \"TAX CLASS AT PRESENT\", \"BUILDING CLASS AT PRESENT\",\n",
        "                \"ZIP CODE\", \"YEAR BUILT\", \"TAX CLASS AT TIME OF SALE\", \"BUILDING CLASS AT TIME OF SALE\"]\n",
        "\n",
        "df[numerics]= df[numerics].apply(lambda x: pd.to_numeric(x, errors=\"coerce\"))\n",
        "df[categoricals]= df[categoricals].apply(lambda x: x.astype(\"category\"))"
      ]
    },
    {
      "cell_type": "markdown",
      "metadata": {
        "id": "2zd-RU_2Qhui"
      },
      "source": [
        "Being able to look at the sale year and month could also be useful in our analysis, so we'll break out those columns as well."
      ]
    },
    {
      "cell_type": "code",
      "execution_count": 9,
      "metadata": {
        "id": "8M6NG9yxAn5a"
      },
      "outputs": [
        {
          "data": {
            "text/html": [
              "<div>\n",
              "<style scoped>\n",
              "    .dataframe tbody tr th:only-of-type {\n",
              "        vertical-align: middle;\n",
              "    }\n",
              "\n",
              "    .dataframe tbody tr th {\n",
              "        vertical-align: top;\n",
              "    }\n",
              "\n",
              "    .dataframe thead th {\n",
              "        text-align: right;\n",
              "    }\n",
              "</style>\n",
              "<table border=\"1\" class=\"dataframe\">\n",
              "  <thead>\n",
              "    <tr style=\"text-align: right;\">\n",
              "      <th>sale_year</th>\n",
              "      <th>2016</th>\n",
              "      <th>2017</th>\n",
              "    </tr>\n",
              "    <tr>\n",
              "      <th>sale_month</th>\n",
              "      <th></th>\n",
              "      <th></th>\n",
              "    </tr>\n",
              "  </thead>\n",
              "  <tbody>\n",
              "    <tr>\n",
              "      <th>1</th>\n",
              "      <td>0</td>\n",
              "      <td>6871</td>\n",
              "    </tr>\n",
              "    <tr>\n",
              "      <th>2</th>\n",
              "      <td>0</td>\n",
              "      <td>6323</td>\n",
              "    </tr>\n",
              "    <tr>\n",
              "      <th>3</th>\n",
              "      <td>0</td>\n",
              "      <td>7705</td>\n",
              "    </tr>\n",
              "    <tr>\n",
              "      <th>4</th>\n",
              "      <td>0</td>\n",
              "      <td>6402</td>\n",
              "    </tr>\n",
              "    <tr>\n",
              "      <th>5</th>\n",
              "      <td>0</td>\n",
              "      <td>7461</td>\n",
              "    </tr>\n",
              "    <tr>\n",
              "      <th>6</th>\n",
              "      <td>0</td>\n",
              "      <td>8293</td>\n",
              "    </tr>\n",
              "    <tr>\n",
              "      <th>7</th>\n",
              "      <td>0</td>\n",
              "      <td>6319</td>\n",
              "    </tr>\n",
              "    <tr>\n",
              "      <th>8</th>\n",
              "      <td>0</td>\n",
              "      <td>5681</td>\n",
              "    </tr>\n",
              "    <tr>\n",
              "      <th>9</th>\n",
              "      <td>7779</td>\n",
              "      <td>0</td>\n",
              "    </tr>\n",
              "    <tr>\n",
              "      <th>10</th>\n",
              "      <td>6751</td>\n",
              "      <td>0</td>\n",
              "    </tr>\n",
              "    <tr>\n",
              "      <th>11</th>\n",
              "      <td>7072</td>\n",
              "      <td>0</td>\n",
              "    </tr>\n",
              "    <tr>\n",
              "      <th>12</th>\n",
              "      <td>7891</td>\n",
              "      <td>0</td>\n",
              "    </tr>\n",
              "  </tbody>\n",
              "</table>\n",
              "</div>"
            ],
            "text/plain": [
              "sale_year   2016  2017\n",
              "sale_month            \n",
              "1              0  6871\n",
              "2              0  6323\n",
              "3              0  7705\n",
              "4              0  6402\n",
              "5              0  7461\n",
              "6              0  8293\n",
              "7              0  6319\n",
              "8              0  5681\n",
              "9           7779     0\n",
              "10          6751     0\n",
              "11          7072     0\n",
              "12          7891     0"
            ]
          },
          "execution_count": 9,
          "metadata": {},
          "output_type": "execute_result"
        }
      ],
      "source": [
        "df['sale_year'] = pd.DatetimeIndex(df['SALE DATE']).year.astype(\"category\")\n",
        "df['sale_month'] = pd.DatetimeIndex(df['SALE DATE']).month.astype(\"category\")\n",
        "pd.crosstab(df['sale_month'],df['sale_year'])"
      ]
    },
    {
      "cell_type": "code",
      "execution_count": 10,
      "metadata": {
        "id": "MyFJdFohAGNH"
      },
      "outputs": [
        {
          "name": "stdout",
          "output_type": "stream",
          "text": [
            "<class 'pandas.core.frame.DataFrame'>\n",
            "RangeIndex: 84548 entries, 0 to 84547\n",
            "Data columns (total 23 columns):\n",
            " #   Column                          Non-Null Count  Dtype         \n",
            "---  ------                          --------------  -----         \n",
            " 0   BOROUGH                         84548 non-null  category      \n",
            " 1   NEIGHBORHOOD                    84548 non-null  category      \n",
            " 2   BUILDING CLASS CATEGORY         84548 non-null  category      \n",
            " 3   TAX CLASS AT PRESENT            84548 non-null  category      \n",
            " 4   BLOCK                           84548 non-null  int64         \n",
            " 5   LOT                             84548 non-null  int64         \n",
            " 6   EASE-MENT                       84548 non-null  object        \n",
            " 7   BUILDING CLASS AT PRESENT       84548 non-null  category      \n",
            " 8   ADDRESS                         84548 non-null  object        \n",
            " 9   APARTMENT NUMBER                84548 non-null  object        \n",
            " 10  ZIP CODE                        84548 non-null  category      \n",
            " 11  RESIDENTIAL UNITS               84548 non-null  int64         \n",
            " 12  COMMERCIAL UNITS                84548 non-null  int64         \n",
            " 13  TOTAL UNITS                     84548 non-null  int64         \n",
            " 14  LAND SQUARE FEET                58296 non-null  float64       \n",
            " 15  GROSS SQUARE FEET               56936 non-null  float64       \n",
            " 16  YEAR BUILT                      84548 non-null  category      \n",
            " 17  TAX CLASS AT TIME OF SALE       84548 non-null  category      \n",
            " 18  BUILDING CLASS AT TIME OF SALE  84548 non-null  category      \n",
            " 19  SALE PRICE                      69987 non-null  float64       \n",
            " 20  SALE DATE                       84548 non-null  datetime64[ns]\n",
            " 21  sale_year                       84548 non-null  category      \n",
            " 22  sale_month                      84548 non-null  category      \n",
            "dtypes: category(11), datetime64[ns](1), float64(3), int64(5), object(3)\n",
            "memory usage: 9.1+ MB\n"
          ]
        }
      ],
      "source": [
        "df.info()"
      ]
    },
    {
      "cell_type": "markdown",
      "metadata": {
        "id": "SzMMUkEMQ_cA"
      },
      "source": [
        "Now let's look for missing values:"
      ]
    },
    {
      "cell_type": "code",
      "execution_count": 11,
      "metadata": {
        "id": "jUCxvCZuQ34j"
      },
      "outputs": [
        {
          "data": {
            "text/plain": [
              "BOROUGH                               0\n",
              "NEIGHBORHOOD                          0\n",
              "BUILDING CLASS CATEGORY               0\n",
              "TAX CLASS AT PRESENT                  0\n",
              "BLOCK                                 0\n",
              "LOT                                   0\n",
              "EASE-MENT                             0\n",
              "BUILDING CLASS AT PRESENT             0\n",
              "ADDRESS                               0\n",
              "APARTMENT NUMBER                      0\n",
              "ZIP CODE                              0\n",
              "RESIDENTIAL UNITS                     0\n",
              "COMMERCIAL UNITS                      0\n",
              "TOTAL UNITS                           0\n",
              "LAND SQUARE FEET                  26252\n",
              "GROSS SQUARE FEET                 27612\n",
              "YEAR BUILT                            0\n",
              "TAX CLASS AT TIME OF SALE             0\n",
              "BUILDING CLASS AT TIME OF SALE        0\n",
              "SALE PRICE                        14561\n",
              "SALE DATE                             0\n",
              "sale_year                             0\n",
              "sale_month                            0\n",
              "dtype: int64"
            ]
          },
          "execution_count": 11,
          "metadata": {},
          "output_type": "execute_result"
        }
      ],
      "source": [
        "df.isna().sum()"
      ]
    },
    {
      "cell_type": "code",
      "execution_count": 12,
      "metadata": {
        "id": "StX4USTSy0nW"
      },
      "outputs": [
        {
          "data": {
            "text/plain": [
              "BOROUGH                             0.000000\n",
              "NEIGHBORHOOD                        0.000000\n",
              "BUILDING CLASS CATEGORY             0.000000\n",
              "TAX CLASS AT PRESENT                0.872877\n",
              "BLOCK                               0.000000\n",
              "LOT                                 0.000000\n",
              "EASE-MENT                         100.000000\n",
              "BUILDING CLASS AT PRESENT           0.872877\n",
              "ADDRESS                             0.000000\n",
              "APARTMENT NUMBER                   77.466055\n",
              "ZIP CODE                            0.000000\n",
              "RESIDENTIAL UNITS                   0.000000\n",
              "COMMERCIAL UNITS                    0.000000\n",
              "TOTAL UNITS                         0.000000\n",
              "LAND SQUARE FEET                   31.049818\n",
              "GROSS SQUARE FEET                  32.658372\n",
              "YEAR BUILT                          0.000000\n",
              "TAX CLASS AT TIME OF SALE           0.000000\n",
              "BUILDING CLASS AT TIME OF SALE      0.000000\n",
              "SALE PRICE                         17.222170\n",
              "SALE DATE                           0.000000\n",
              "sale_year                           0.000000\n",
              "sale_month                          0.000000\n",
              "dtype: float64"
            ]
          },
          "execution_count": 12,
          "metadata": {},
          "output_type": "execute_result"
        }
      ],
      "source": [
        "df.replace(to_replace=' ', value=np.nan, inplace=True)\n",
        "df.isna().sum() / len(df) * 100"
      ]
    },
    {
      "cell_type": "code",
      "execution_count": 13,
      "metadata": {
        "id": "k4L_V3WizSH-"
      },
      "outputs": [
        {
          "data": {
            "text/plain": [
              "<Axes: >"
            ]
          },
          "execution_count": 13,
          "metadata": {},
          "output_type": "execute_result"
        },
        {
          "data": {
            "image/png": "[encoded data removed]",
            "text/plain": [
              "<Figure size 1000x700 with 1 Axes>"
            ]
          },
          "metadata": {},
          "output_type": "display_data"
        }
      ],
      "source": [
        "plt.figure(figsize=(10,7))\n",
        "sns.heatmap(df.isnull(),yticklabels=False,cbar=False,cmap='Greens')"
      ]
    },
    {
      "cell_type": "markdown",
      "metadata": {
        "id": "WdeqQVsvRRph"
      },
      "source": [
        "Easement is entirely blank, apartment number is around 77% blank, so let's drop those columns."
      ]
    },
    {
      "cell_type": "code",
      "execution_count": 14,
      "metadata": {
        "id": "pLCaqRQ3zdWK"
      },
      "outputs": [],
      "source": [
        "df.drop(['EASE-MENT', 'APARTMENT NUMBER'], axis=1, inplace=True)"
      ]
    },
    {
      "cell_type": "code",
      "execution_count": 15,
      "metadata": {
        "id": "RDyp-d7MxRwl"
      },
      "outputs": [],
      "source": [
        "df=df.dropna()"
      ]
    },
    {
      "cell_type": "code",
      "execution_count": 16,
      "metadata": {
        "id": "oh2phsUaRhNU"
      },
      "outputs": [
        {
          "data": {
            "text/plain": [
              "348"
            ]
          },
          "execution_count": 16,
          "metadata": {},
          "output_type": "execute_result"
        }
      ],
      "source": [
        "sum(df.duplicated())"
      ]
    },
    {
      "cell_type": "code",
      "execution_count": 17,
      "metadata": {
        "id": "HgdFbaciRj6u"
      },
      "outputs": [],
      "source": [
        "# Quite a few duplicates, we'll drop those, too.\n",
        "df.drop_duplicates(inplace=True)"
      ]
    },
    {
      "cell_type": "markdown",
      "metadata": {
        "id": "COpaChS5RyHP"
      },
      "source": [
        "Now let's look closer at our other missing data:"
      ]
    },
    {
      "cell_type": "code",
      "execution_count": 18,
      "metadata": {
        "id": "KKXhT4_w2RQw"
      },
      "outputs": [
        {
          "name": "stdout",
          "output_type": "stream",
          "text": [
            "<class 'pandas.core.frame.DataFrame'>\n",
            "Index: 47544 entries, 0 to 84547\n",
            "Data columns (total 21 columns):\n",
            " #   Column                          Non-Null Count  Dtype  \n",
            "---  ------                          --------------  -----  \n",
            " 0   BOROUGH                         47544 non-null  int64  \n",
            " 1   NEIGHBORHOOD                    0 non-null      float64\n",
            " 2   BUILDING CLASS CATEGORY         0 non-null      float64\n",
            " 3   TAX CLASS AT PRESENT            42401 non-null  float64\n",
            " 4   BLOCK                           47544 non-null  int64  \n",
            " 5   LOT                             47544 non-null  int64  \n",
            " 6   BUILDING CLASS AT PRESENT       0 non-null      float64\n",
            " 7   ADDRESS                         0 non-null      float64\n",
            " 8   ZIP CODE                        47544 non-null  int64  \n",
            " 9   RESIDENTIAL UNITS               47544 non-null  int64  \n",
            " 10  COMMERCIAL UNITS                47544 non-null  int64  \n",
            " 11  TOTAL UNITS                     47544 non-null  int64  \n",
            " 12  LAND SQUARE FEET                47544 non-null  float64\n",
            " 13  GROSS SQUARE FEET               47544 non-null  float64\n",
            " 14  YEAR BUILT                      47544 non-null  int64  \n",
            " 15  TAX CLASS AT TIME OF SALE       47544 non-null  int64  \n",
            " 16  BUILDING CLASS AT TIME OF SALE  0 non-null      float64\n",
            " 17  SALE PRICE                      47544 non-null  float64\n",
            " 18  SALE DATE                       47544 non-null  int64  \n",
            " 19  sale_year                       47544 non-null  int64  \n",
            " 20  sale_month                      47544 non-null  int64  \n",
            "dtypes: float64(9), int64(12)\n",
            "memory usage: 8.0 MB\n"
          ]
        }
      ],
      "source": [
        "# Change all variables to numberic and look at the statistics\n",
        "temp = df.copy()\n",
        "for cols in temp.columns:\n",
        "    temp[cols]=pd.to_numeric(temp[cols], errors='coerce')\n",
        "\n",
        "temp.info()"
      ]
    },
    {
      "cell_type": "code",
      "execution_count": 19,
      "metadata": {
        "id": "TQEbUz_S2Une"
      },
      "outputs": [
        {
          "data": {
            "text/html": [
              "<div>\n",
              "<style scoped>\n",
              "    .dataframe tbody tr th:only-of-type {\n",
              "        vertical-align: middle;\n",
              "    }\n",
              "\n",
              "    .dataframe tbody tr th {\n",
              "        vertical-align: top;\n",
              "    }\n",
              "\n",
              "    .dataframe thead th {\n",
              "        text-align: right;\n",
              "    }\n",
              "</style>\n",
              "<table border=\"1\" class=\"dataframe\">\n",
              "  <thead>\n",
              "    <tr style=\"text-align: right;\">\n",
              "      <th></th>\n",
              "      <th>count</th>\n",
              "      <th>mean</th>\n",
              "      <th>std</th>\n",
              "      <th>min</th>\n",
              "      <th>25%</th>\n",
              "      <th>50%</th>\n",
              "      <th>75%</th>\n",
              "      <th>max</th>\n",
              "    </tr>\n",
              "  </thead>\n",
              "  <tbody>\n",
              "    <tr>\n",
              "      <th>BOROUGH</th>\n",
              "      <td>47544.0</td>\n",
              "      <td>3.256836e+00</td>\n",
              "      <td>9.049520e-01</td>\n",
              "      <td>1.000000e+00</td>\n",
              "      <td>3.000000e+00</td>\n",
              "      <td>3.000000e+00</td>\n",
              "      <td>4.000000e+00</td>\n",
              "      <td>5.000000e+00</td>\n",
              "    </tr>\n",
              "    <tr>\n",
              "      <th>NEIGHBORHOOD</th>\n",
              "      <td>0.0</td>\n",
              "      <td>NaN</td>\n",
              "      <td>NaN</td>\n",
              "      <td>NaN</td>\n",
              "      <td>NaN</td>\n",
              "      <td>NaN</td>\n",
              "      <td>NaN</td>\n",
              "      <td>NaN</td>\n",
              "    </tr>\n",
              "    <tr>\n",
              "      <th>BUILDING CLASS CATEGORY</th>\n",
              "      <td>0.0</td>\n",
              "      <td>NaN</td>\n",
              "      <td>NaN</td>\n",
              "      <td>NaN</td>\n",
              "      <td>NaN</td>\n",
              "      <td>NaN</td>\n",
              "      <td>NaN</td>\n",
              "      <td>NaN</td>\n",
              "    </tr>\n",
              "    <tr>\n",
              "      <th>TAX CLASS AT PRESENT</th>\n",
              "      <td>42401.0</td>\n",
              "      <td>1.428646e+00</td>\n",
              "      <td>8.524710e-01</td>\n",
              "      <td>1.000000e+00</td>\n",
              "      <td>1.000000e+00</td>\n",
              "      <td>1.000000e+00</td>\n",
              "      <td>2.000000e+00</td>\n",
              "      <td>4.000000e+00</td>\n",
              "    </tr>\n",
              "    <tr>\n",
              "      <th>BLOCK</th>\n",
              "      <td>47544.0</td>\n",
              "      <td>4.993789e+03</td>\n",
              "      <td>3.431769e+03</td>\n",
              "      <td>1.000000e+00</td>\n",
              "      <td>2.218000e+03</td>\n",
              "      <td>4.666000e+03</td>\n",
              "      <td>6.983750e+03</td>\n",
              "      <td>1.631900e+04</td>\n",
              "    </tr>\n",
              "    <tr>\n",
              "      <th>LOT</th>\n",
              "      <td>47544.0</td>\n",
              "      <td>2.278511e+02</td>\n",
              "      <td>4.906937e+02</td>\n",
              "      <td>1.000000e+00</td>\n",
              "      <td>2.100000e+01</td>\n",
              "      <td>4.500000e+01</td>\n",
              "      <td>9.000000e+01</td>\n",
              "      <td>9.009000e+03</td>\n",
              "    </tr>\n",
              "    <tr>\n",
              "      <th>BUILDING CLASS AT PRESENT</th>\n",
              "      <td>0.0</td>\n",
              "      <td>NaN</td>\n",
              "      <td>NaN</td>\n",
              "      <td>NaN</td>\n",
              "      <td>NaN</td>\n",
              "      <td>NaN</td>\n",
              "      <td>NaN</td>\n",
              "      <td>NaN</td>\n",
              "    </tr>\n",
              "    <tr>\n",
              "      <th>ADDRESS</th>\n",
              "      <td>0.0</td>\n",
              "      <td>NaN</td>\n",
              "      <td>NaN</td>\n",
              "      <td>NaN</td>\n",
              "      <td>NaN</td>\n",
              "      <td>NaN</td>\n",
              "      <td>NaN</td>\n",
              "      <td>NaN</td>\n",
              "    </tr>\n",
              "    <tr>\n",
              "      <th>ZIP CODE</th>\n",
              "      <td>47544.0</td>\n",
              "      <td>1.098669e+04</td>\n",
              "      <td>8.016274e+02</td>\n",
              "      <td>0.000000e+00</td>\n",
              "      <td>1.047000e+04</td>\n",
              "      <td>1.121700e+04</td>\n",
              "      <td>1.123800e+04</td>\n",
              "      <td>1.169400e+04</td>\n",
              "    </tr>\n",
              "    <tr>\n",
              "      <th>RESIDENTIAL UNITS</th>\n",
              "      <td>47544.0</td>\n",
              "      <td>2.553656e+00</td>\n",
              "      <td>1.723198e+01</td>\n",
              "      <td>0.000000e+00</td>\n",
              "      <td>1.000000e+00</td>\n",
              "      <td>1.000000e+00</td>\n",
              "      <td>2.000000e+00</td>\n",
              "      <td>1.844000e+03</td>\n",
              "    </tr>\n",
              "    <tr>\n",
              "      <th>COMMERCIAL UNITS</th>\n",
              "      <td>47544.0</td>\n",
              "      <td>2.392310e-01</td>\n",
              "      <td>1.088558e+01</td>\n",
              "      <td>0.000000e+00</td>\n",
              "      <td>0.000000e+00</td>\n",
              "      <td>0.000000e+00</td>\n",
              "      <td>0.000000e+00</td>\n",
              "      <td>2.261000e+03</td>\n",
              "    </tr>\n",
              "    <tr>\n",
              "      <th>TOTAL UNITS</th>\n",
              "      <td>47544.0</td>\n",
              "      <td>2.811985e+00</td>\n",
              "      <td>2.050190e+01</td>\n",
              "      <td>0.000000e+00</td>\n",
              "      <td>1.000000e+00</td>\n",
              "      <td>1.000000e+00</td>\n",
              "      <td>2.000000e+00</td>\n",
              "      <td>2.261000e+03</td>\n",
              "    </tr>\n",
              "    <tr>\n",
              "      <th>LAND SQUARE FEET</th>\n",
              "      <td>47544.0</td>\n",
              "      <td>3.295120e+03</td>\n",
              "      <td>3.066143e+04</td>\n",
              "      <td>0.000000e+00</td>\n",
              "      <td>1.462750e+03</td>\n",
              "      <td>2.150000e+03</td>\n",
              "      <td>3.076000e+03</td>\n",
              "      <td>4.228300e+06</td>\n",
              "    </tr>\n",
              "    <tr>\n",
              "      <th>GROSS SQUARE FEET</th>\n",
              "      <td>47544.0</td>\n",
              "      <td>3.551979e+03</td>\n",
              "      <td>2.931144e+04</td>\n",
              "      <td>0.000000e+00</td>\n",
              "      <td>8.760000e+02</td>\n",
              "      <td>1.628000e+03</td>\n",
              "      <td>2.520000e+03</td>\n",
              "      <td>3.750565e+06</td>\n",
              "    </tr>\n",
              "    <tr>\n",
              "      <th>YEAR BUILT</th>\n",
              "      <td>47544.0</td>\n",
              "      <td>1.841982e+03</td>\n",
              "      <td>4.371478e+02</td>\n",
              "      <td>0.000000e+00</td>\n",
              "      <td>1.920000e+03</td>\n",
              "      <td>1.931000e+03</td>\n",
              "      <td>1.961000e+03</td>\n",
              "      <td>2.017000e+03</td>\n",
              "    </tr>\n",
              "    <tr>\n",
              "      <th>TAX CLASS AT TIME OF SALE</th>\n",
              "      <td>47544.0</td>\n",
              "      <td>1.465274e+00</td>\n",
              "      <td>8.243077e-01</td>\n",
              "      <td>1.000000e+00</td>\n",
              "      <td>1.000000e+00</td>\n",
              "      <td>1.000000e+00</td>\n",
              "      <td>2.000000e+00</td>\n",
              "      <td>4.000000e+00</td>\n",
              "    </tr>\n",
              "    <tr>\n",
              "      <th>BUILDING CLASS AT TIME OF SALE</th>\n",
              "      <td>0.0</td>\n",
              "      <td>NaN</td>\n",
              "      <td>NaN</td>\n",
              "      <td>NaN</td>\n",
              "      <td>NaN</td>\n",
              "      <td>NaN</td>\n",
              "      <td>NaN</td>\n",
              "      <td>NaN</td>\n",
              "    </tr>\n",
              "    <tr>\n",
              "      <th>SALE PRICE</th>\n",
              "      <td>47544.0</td>\n",
              "      <td>1.160690e+06</td>\n",
              "      <td>1.349207e+07</td>\n",
              "      <td>0.000000e+00</td>\n",
              "      <td>1.000000e+05</td>\n",
              "      <td>4.830000e+05</td>\n",
              "      <td>8.300000e+05</td>\n",
              "      <td>2.210000e+09</td>\n",
              "    </tr>\n",
              "    <tr>\n",
              "      <th>SALE DATE</th>\n",
              "      <td>47544.0</td>\n",
              "      <td>1.487965e+18</td>\n",
              "      <td>8.928912e+15</td>\n",
              "      <td>1.472688e+18</td>\n",
              "      <td>1.480378e+18</td>\n",
              "      <td>1.487894e+18</td>\n",
              "      <td>1.495670e+18</td>\n",
              "      <td>1.504138e+18</td>\n",
              "    </tr>\n",
              "    <tr>\n",
              "      <th>sale_year</th>\n",
              "      <td>47544.0</td>\n",
              "      <td>2.016644e+03</td>\n",
              "      <td>4.787591e-01</td>\n",
              "      <td>2.016000e+03</td>\n",
              "      <td>2.016000e+03</td>\n",
              "      <td>2.017000e+03</td>\n",
              "      <td>2.017000e+03</td>\n",
              "      <td>2.017000e+03</td>\n",
              "    </tr>\n",
              "    <tr>\n",
              "      <th>sale_month</th>\n",
              "      <td>47544.0</td>\n",
              "      <td>6.590127e+00</td>\n",
              "      <td>3.488798e+00</td>\n",
              "      <td>1.000000e+00</td>\n",
              "      <td>4.000000e+00</td>\n",
              "      <td>6.000000e+00</td>\n",
              "      <td>1.000000e+01</td>\n",
              "      <td>1.200000e+01</td>\n",
              "    </tr>\n",
              "  </tbody>\n",
              "</table>\n",
              "</div>"
            ],
            "text/plain": [
              "                                  count          mean           std  \\\n",
              "BOROUGH                         47544.0  3.256836e+00  9.049520e-01   \n",
              "NEIGHBORHOOD                        0.0           NaN           NaN   \n",
              "BUILDING CLASS CATEGORY             0.0           NaN           NaN   \n",
              "TAX CLASS AT PRESENT            42401.0  1.428646e+00  8.524710e-01   \n",
              "BLOCK                           47544.0  4.993789e+03  3.431769e+03   \n",
              "LOT                             47544.0  2.278511e+02  4.906937e+02   \n",
              "BUILDING CLASS AT PRESENT           0.0           NaN           NaN   \n",
              "ADDRESS                             0.0           NaN           NaN   \n",
              "ZIP CODE                        47544.0  1.098669e+04  8.016274e+02   \n",
              "RESIDENTIAL UNITS               47544.0  2.553656e+00  1.723198e+01   \n",
              "COMMERCIAL UNITS                47544.0  2.392310e-01  1.088558e+01   \n",
              "TOTAL UNITS                     47544.0  2.811985e+00  2.050190e+01   \n",
              "LAND SQUARE FEET                47544.0  3.295120e+03  3.066143e+04   \n",
              "GROSS SQUARE FEET               47544.0  3.551979e+03  2.931144e+04   \n",
              "YEAR BUILT                      47544.0  1.841982e+03  4.371478e+02   \n",
              "TAX CLASS AT TIME OF SALE       47544.0  1.465274e+00  8.243077e-01   \n",
              "BUILDING CLASS AT TIME OF SALE      0.0           NaN           NaN   \n",
              "SALE PRICE                      47544.0  1.160690e+06  1.349207e+07   \n",
              "SALE DATE                       47544.0  1.487965e+18  8.928912e+15   \n",
              "sale_year                       47544.0  2.016644e+03  4.787591e-01   \n",
              "sale_month                      47544.0  6.590127e+00  3.488798e+00   \n",
              "\n",
              "                                         min           25%           50%  \\\n",
              "BOROUGH                         1.000000e+00  3.000000e+00  3.000000e+00   \n",
              "NEIGHBORHOOD                             NaN           NaN           NaN   \n",
              "BUILDING CLASS CATEGORY                  NaN           NaN           NaN   \n",
              "TAX CLASS AT PRESENT            1.000000e+00  1.000000e+00  1.000000e+00   \n",
              "BLOCK                           1.000000e+00  2.218000e+03  4.666000e+03   \n",
              "LOT                             1.000000e+00  2.100000e+01  4.500000e+01   \n",
              "BUILDING CLASS AT PRESENT                NaN           NaN           NaN   \n",
              "ADDRESS                                  NaN           NaN           NaN   \n",
              "ZIP CODE                        0.000000e+00  1.047000e+04  1.121700e+04   \n",
              "RESIDENTIAL UNITS               0.000000e+00  1.000000e+00  1.000000e+00   \n",
              "COMMERCIAL UNITS                0.000000e+00  0.000000e+00  0.000000e+00   \n",
              "TOTAL UNITS                     0.000000e+00  1.000000e+00  1.000000e+00   \n",
              "LAND SQUARE FEET                0.000000e+00  1.462750e+03  2.150000e+03   \n",
              "GROSS SQUARE FEET               0.000000e+00  8.760000e+02  1.628000e+03   \n",
              "YEAR BUILT                      0.000000e+00  1.920000e+03  1.931000e+03   \n",
              "TAX CLASS AT TIME OF SALE       1.000000e+00  1.000000e+00  1.000000e+00   \n",
              "BUILDING CLASS AT TIME OF SALE           NaN           NaN           NaN   \n",
              "SALE PRICE                      0.000000e+00  1.000000e+05  4.830000e+05   \n",
              "SALE DATE                       1.472688e+18  1.480378e+18  1.487894e+18   \n",
              "sale_year                       2.016000e+03  2.016000e+03  2.017000e+03   \n",
              "sale_month                      1.000000e+00  4.000000e+00  6.000000e+00   \n",
              "\n",
              "                                         75%           max  \n",
              "BOROUGH                         4.000000e+00  5.000000e+00  \n",
              "NEIGHBORHOOD                             NaN           NaN  \n",
              "BUILDING CLASS CATEGORY                  NaN           NaN  \n",
              "TAX CLASS AT PRESENT            2.000000e+00  4.000000e+00  \n",
              "BLOCK                           6.983750e+03  1.631900e+04  \n",
              "LOT                             9.000000e+01  9.009000e+03  \n",
              "BUILDING CLASS AT PRESENT                NaN           NaN  \n",
              "ADDRESS                                  NaN           NaN  \n",
              "ZIP CODE                        1.123800e+04  1.169400e+04  \n",
              "RESIDENTIAL UNITS               2.000000e+00  1.844000e+03  \n",
              "COMMERCIAL UNITS                0.000000e+00  2.261000e+03  \n",
              "TOTAL UNITS                     2.000000e+00  2.261000e+03  \n",
              "LAND SQUARE FEET                3.076000e+03  4.228300e+06  \n",
              "GROSS SQUARE FEET               2.520000e+03  3.750565e+06  \n",
              "YEAR BUILT                      1.961000e+03  2.017000e+03  \n",
              "TAX CLASS AT TIME OF SALE       2.000000e+00  4.000000e+00  \n",
              "BUILDING CLASS AT TIME OF SALE           NaN           NaN  \n",
              "SALE PRICE                      8.300000e+05  2.210000e+09  \n",
              "SALE DATE                       1.495670e+18  1.504138e+18  \n",
              "sale_year                       2.017000e+03  2.017000e+03  \n",
              "sale_month                      1.000000e+01  1.200000e+01  "
            ]
          },
          "execution_count": 19,
          "metadata": {},
          "output_type": "execute_result"
        }
      ],
      "source": [
        "temp.describe().T"
      ]
    },
    {
      "cell_type": "markdown",
      "metadata": {
        "id": "GoPMBqVxSLtp"
      },
      "source": [
        "Looking at sale price first, because the data seems very skewed and has $0 values, which doesn't make any sense in terms of our analysis."
      ]
    },
    {
      "cell_type": "code",
      "execution_count": 20,
      "metadata": {
        "id": "_GZNZs-B21hP"
      },
      "outputs": [
        {
          "data": {
            "text/plain": [
              "0.24310112737674575"
            ]
          },
          "execution_count": 20,
          "metadata": {},
          "output_type": "execute_result"
        }
      ],
      "source": [
        "df[(df['SALE PRICE']<10000) | (df['SALE PRICE']>10000000)]['SALE PRICE'].count() /len(df)"
      ]
    },
    {
      "cell_type": "code",
      "execution_count": 21,
      "metadata": {
        "id": "W0ZjtW5_3a9U"
      },
      "outputs": [
        {
          "data": {
            "text/plain": [
              "count    3.592500e+04\n",
              "mean     8.781402e+05\n",
              "std      1.033943e+06\n",
              "min      1.000100e+04\n",
              "25%      4.000000e+05\n",
              "50%      6.100000e+05\n",
              "75%      9.418810e+05\n",
              "max      9.999999e+06\n",
              "Name: SALE PRICE, dtype: float64"
            ]
          },
          "execution_count": 21,
          "metadata": {},
          "output_type": "execute_result"
        }
      ],
      "source": [
        "df2= df[(df['SALE PRICE']>10000) & (df['SALE PRICE']<10000000)].copy()\n",
        "df2['SALE PRICE'].describe()"
      ]
    },
    {
      "cell_type": "code",
      "execution_count": 22,
      "metadata": {
        "id": "TH-q7pwN5jg4"
      },
      "outputs": [
        {
          "data": {
            "image/png": "[encoded data removed]",
            "text/plain": [
              "<Figure size 1200x600 with 1 Axes>"
            ]
          },
          "metadata": {},
          "output_type": "display_data"
        }
      ],
      "source": [
        "plt.figure(figsize=(12,6))\n",
        "sns.distplot(df2['SALE PRICE'], kde=True, bins=50, rug=True)\n",
        "plt.show()"
      ]
    },
    {
      "cell_type": "markdown",
      "metadata": {
        "id": "hxRmoE1xTf85"
      },
      "source": [
        "This plot looks better, but it's still quite skewed."
      ]
    },
    {
      "cell_type": "code",
      "execution_count": 23,
      "metadata": {
        "id": "-aE7tKxZ_9xL"
      },
      "outputs": [
        {
          "data": {
            "image/png": "[encoded data removed]",
            "text/plain": [
              "<Figure size 1200x600 with 1 Axes>"
            ]
          },
          "metadata": {},
          "output_type": "display_data"
        }
      ],
      "source": [
        "df2= df2[(df2['SALE PRICE']<4000000)]\n",
        "plt.figure(figsize=(12,6))\n",
        "sns.distplot(df2['SALE PRICE'], kde=True, bins=50, rug=True)\n",
        "plt.show()"
      ]
    },
    {
      "cell_type": "markdown",
      "metadata": {
        "id": "pI5yMkyFTqiM"
      },
      "source": [
        "That looks much more normal. It's still right skewed, but that makes sense for real estate prices because of luxury homes.\n",
        "\n",
        "Now let's look at Year Built:"
      ]
    },
    {
      "cell_type": "code",
      "execution_count": 24,
      "metadata": {
        "id": "PmSqk8N_DWs4"
      },
      "outputs": [
        {
          "data": {
            "text/plain": [
              "1434"
            ]
          },
          "execution_count": 24,
          "metadata": {},
          "output_type": "execute_result"
        }
      ],
      "source": [
        "# Number of 0's\n",
        "df2[df2['YEAR BUILT']==0]['YEAR BUILT'].count()"
      ]
    },
    {
      "cell_type": "code",
      "execution_count": 25,
      "metadata": {
        "id": "2-wQlvJstTWO"
      },
      "outputs": [
        {
          "data": {
            "image/png": "[encoded data removed]",
            "text/plain": [
              "<Figure size 640x480 with 1 Axes>"
            ]
          },
          "metadata": {},
          "output_type": "display_data"
        }
      ],
      "source": [
        "df3=df2[df2['YEAR BUILT']!=0].copy()\n",
        "sns.distplot(df3['YEAR BUILT'], bins=50, rug=True)\n",
        "plt.show()"
      ]
    },
    {
      "cell_type": "markdown",
      "metadata": {
        "id": "1YoHx3Ihue2M"
      },
      "source": [
        "This plot looks good. After removing zeroes, there are no major outliers or nonsensical data.\n",
        "\n",
        "Now units:"
      ]
    },
    {
      "cell_type": "code",
      "execution_count": 26,
      "metadata": {
        "id": "iFUjA8b-toaD"
      },
      "outputs": [
        {
          "data": {
            "text/plain": [
              "3426"
            ]
          },
          "execution_count": 26,
          "metadata": {},
          "output_type": "execute_result"
        }
      ],
      "source": [
        "df3[df3['TOTAL UNITS']==0]['TOTAL UNITS'].count()"
      ]
    },
    {
      "cell_type": "code",
      "execution_count": 27,
      "metadata": {
        "id": "jakJ3lCTv221"
      },
      "outputs": [
        {
          "data": {
            "image/png": "[encoded data removed]",
            "text/plain": [
              "<Figure size 640x480 with 1 Axes>"
            ]
          },
          "metadata": {},
          "output_type": "display_data"
        }
      ],
      "source": [
        "df4=df3[df3['TOTAL UNITS']!=0].copy()\n",
        "sns.distplot(df4['TOTAL UNITS'], bins=50, rug=True)\n",
        "plt.show()"
      ]
    },
    {
      "cell_type": "markdown",
      "metadata": {
        "id": "Fh8gRLuGwbTn"
      },
      "source": [
        "Most total units are on the low end, but we have a few outliers."
      ]
    },
    {
      "cell_type": "code",
      "execution_count": 28,
      "metadata": {
        "id": "_3FXbzVyv502"
      },
      "outputs": [
        {
          "data": {
            "text/html": [
              "<div>\n",
              "<style scoped>\n",
              "    .dataframe tbody tr th:only-of-type {\n",
              "        vertical-align: middle;\n",
              "    }\n",
              "\n",
              "    .dataframe tbody tr th {\n",
              "        vertical-align: top;\n",
              "    }\n",
              "\n",
              "    .dataframe thead th {\n",
              "        text-align: right;\n",
              "    }\n",
              "</style>\n",
              "<table border=\"1\" class=\"dataframe\">\n",
              "  <thead>\n",
              "    <tr style=\"text-align: right;\">\n",
              "      <th></th>\n",
              "      <th>count</th>\n",
              "      <th>mean</th>\n",
              "      <th>min</th>\n",
              "      <th>25%</th>\n",
              "      <th>50%</th>\n",
              "      <th>75%</th>\n",
              "      <th>max</th>\n",
              "      <th>std</th>\n",
              "    </tr>\n",
              "  </thead>\n",
              "  <tbody>\n",
              "    <tr>\n",
              "      <th>BLOCK</th>\n",
              "      <td>30236.0</td>\n",
              "      <td>5418.821835</td>\n",
              "      <td>1.0</td>\n",
              "      <td>2395.0</td>\n",
              "      <td>4836.0</td>\n",
              "      <td>7677.0</td>\n",
              "      <td>16319.0</td>\n",
              "      <td>3753.775464</td>\n",
              "    </tr>\n",
              "    <tr>\n",
              "      <th>LOT</th>\n",
              "      <td>30236.0</td>\n",
              "      <td>185.704987</td>\n",
              "      <td>1.0</td>\n",
              "      <td>22.0</td>\n",
              "      <td>44.0</td>\n",
              "      <td>83.0</td>\n",
              "      <td>3597.0</td>\n",
              "      <td>384.518819</td>\n",
              "    </tr>\n",
              "    <tr>\n",
              "      <th>RESIDENTIAL UNITS</th>\n",
              "      <td>30236.0</td>\n",
              "      <td>1.970532</td>\n",
              "      <td>0.0</td>\n",
              "      <td>1.0</td>\n",
              "      <td>1.0</td>\n",
              "      <td>2.0</td>\n",
              "      <td>1844.0</td>\n",
              "      <td>12.586963</td>\n",
              "    </tr>\n",
              "    <tr>\n",
              "      <th>COMMERCIAL UNITS</th>\n",
              "      <td>30236.0</td>\n",
              "      <td>0.173039</td>\n",
              "      <td>0.0</td>\n",
              "      <td>0.0</td>\n",
              "      <td>0.0</td>\n",
              "      <td>0.0</td>\n",
              "      <td>2261.0</td>\n",
              "      <td>13.034598</td>\n",
              "    </tr>\n",
              "    <tr>\n",
              "      <th>TOTAL UNITS</th>\n",
              "      <td>30236.0</td>\n",
              "      <td>2.147804</td>\n",
              "      <td>1.0</td>\n",
              "      <td>1.0</td>\n",
              "      <td>1.0</td>\n",
              "      <td>2.0</td>\n",
              "      <td>2261.0</td>\n",
              "      <td>18.198705</td>\n",
              "    </tr>\n",
              "    <tr>\n",
              "      <th>LAND SQUARE FEET</th>\n",
              "      <td>30236.0</td>\n",
              "      <td>3133.582088</td>\n",
              "      <td>0.0</td>\n",
              "      <td>1816.5</td>\n",
              "      <td>2417.0</td>\n",
              "      <td>3500.0</td>\n",
              "      <td>4228300.0</td>\n",
              "      <td>27966.319284</td>\n",
              "    </tr>\n",
              "    <tr>\n",
              "      <th>GROSS SQUARE FEET</th>\n",
              "      <td>30236.0</td>\n",
              "      <td>2440.363276</td>\n",
              "      <td>0.0</td>\n",
              "      <td>1208.0</td>\n",
              "      <td>1680.0</td>\n",
              "      <td>2392.0</td>\n",
              "      <td>3750565.0</td>\n",
              "      <td>23800.244758</td>\n",
              "    </tr>\n",
              "    <tr>\n",
              "      <th>SALE PRICE</th>\n",
              "      <td>30236.0</td>\n",
              "      <td>793820.011146</td>\n",
              "      <td>10001.0</td>\n",
              "      <td>436000.0</td>\n",
              "      <td>630000.0</td>\n",
              "      <td>940000.0</td>\n",
              "      <td>3995000.0</td>\n",
              "      <td>594725.186839</td>\n",
              "    </tr>\n",
              "    <tr>\n",
              "      <th>SALE DATE</th>\n",
              "      <td>30236</td>\n",
              "      <td>2017-02-26 02:36:26.955946496</td>\n",
              "      <td>2016-09-01 00:00:00</td>\n",
              "      <td>2016-11-30 00:00:00</td>\n",
              "      <td>2017-02-27 00:00:00</td>\n",
              "      <td>2017-05-26 00:00:00</td>\n",
              "      <td>2017-08-31 00:00:00</td>\n",
              "      <td>NaN</td>\n",
              "    </tr>\n",
              "  </tbody>\n",
              "</table>\n",
              "</div>"
            ],
            "text/plain": [
              "                     count                           mean  \\\n",
              "BLOCK              30236.0                    5418.821835   \n",
              "LOT                30236.0                     185.704987   \n",
              "RESIDENTIAL UNITS  30236.0                       1.970532   \n",
              "COMMERCIAL UNITS   30236.0                       0.173039   \n",
              "TOTAL UNITS        30236.0                       2.147804   \n",
              "LAND SQUARE FEET   30236.0                    3133.582088   \n",
              "GROSS SQUARE FEET  30236.0                    2440.363276   \n",
              "SALE PRICE         30236.0                  793820.011146   \n",
              "SALE DATE            30236  2017-02-26 02:36:26.955946496   \n",
              "\n",
              "                                   min                  25%  \\\n",
              "BLOCK                              1.0               2395.0   \n",
              "LOT                                1.0                 22.0   \n",
              "RESIDENTIAL UNITS                  0.0                  1.0   \n",
              "COMMERCIAL UNITS                   0.0                  0.0   \n",
              "TOTAL UNITS                        1.0                  1.0   \n",
              "LAND SQUARE FEET                   0.0               1816.5   \n",
              "GROSS SQUARE FEET                  0.0               1208.0   \n",
              "SALE PRICE                     10001.0             436000.0   \n",
              "SALE DATE          2016-09-01 00:00:00  2016-11-30 00:00:00   \n",
              "\n",
              "                                   50%                  75%  \\\n",
              "BLOCK                           4836.0               7677.0   \n",
              "LOT                               44.0                 83.0   \n",
              "RESIDENTIAL UNITS                  1.0                  2.0   \n",
              "COMMERCIAL UNITS                   0.0                  0.0   \n",
              "TOTAL UNITS                        1.0                  2.0   \n",
              "LAND SQUARE FEET                2417.0               3500.0   \n",
              "GROSS SQUARE FEET               1680.0               2392.0   \n",
              "SALE PRICE                    630000.0             940000.0   \n",
              "SALE DATE          2017-02-27 00:00:00  2017-05-26 00:00:00   \n",
              "\n",
              "                                   max            std  \n",
              "BLOCK                          16319.0    3753.775464  \n",
              "LOT                             3597.0     384.518819  \n",
              "RESIDENTIAL UNITS               1844.0      12.586963  \n",
              "COMMERCIAL UNITS                2261.0      13.034598  \n",
              "TOTAL UNITS                     2261.0      18.198705  \n",
              "LAND SQUARE FEET             4228300.0   27966.319284  \n",
              "GROSS SQUARE FEET            3750565.0   23800.244758  \n",
              "SALE PRICE                   3995000.0  594725.186839  \n",
              "SALE DATE          2017-08-31 00:00:00            NaN  "
            ]
          },
          "execution_count": 28,
          "metadata": {},
          "output_type": "execute_result"
        }
      ],
      "source": [
        "df4.describe().T"
      ]
    },
    {
      "cell_type": "markdown",
      "metadata": {
        "id": "Jls9oQrZyHxe"
      },
      "source": [
        "Better! We filtered out those nonsensical values."
      ]
    },
    {
      "cell_type": "code",
      "execution_count": 29,
      "metadata": {
        "id": "uO95-PjixK2h"
      },
      "outputs": [
        {
          "name": "stdout",
          "output_type": "stream",
          "text": [
            "<class 'pandas.core.frame.DataFrame'>\n",
            "Index: 30236 entries, 3 to 84547\n",
            "Data columns (total 21 columns):\n",
            " #   Column                          Non-Null Count  Dtype         \n",
            "---  ------                          --------------  -----         \n",
            " 0   BOROUGH                         30236 non-null  category      \n",
            " 1   NEIGHBORHOOD                    30236 non-null  category      \n",
            " 2   BUILDING CLASS CATEGORY         30236 non-null  category      \n",
            " 3   TAX CLASS AT PRESENT            30236 non-null  category      \n",
            " 4   BLOCK                           30236 non-null  int64         \n",
            " 5   LOT                             30236 non-null  int64         \n",
            " 6   BUILDING CLASS AT PRESENT       30236 non-null  category      \n",
            " 7   ADDRESS                         30236 non-null  object        \n",
            " 8   ZIP CODE                        30236 non-null  category      \n",
            " 9   RESIDENTIAL UNITS               30236 non-null  int64         \n",
            " 10  COMMERCIAL UNITS                30236 non-null  int64         \n",
            " 11  TOTAL UNITS                     30236 non-null  int64         \n",
            " 12  LAND SQUARE FEET                30236 non-null  float64       \n",
            " 13  GROSS SQUARE FEET               30236 non-null  float64       \n",
            " 14  YEAR BUILT                      30236 non-null  category      \n",
            " 15  TAX CLASS AT TIME OF SALE       30236 non-null  category      \n",
            " 16  BUILDING CLASS AT TIME OF SALE  30236 non-null  category      \n",
            " 17  SALE PRICE                      30236 non-null  float64       \n",
            " 18  SALE DATE                       30236 non-null  datetime64[ns]\n",
            " 19  sale_year                       30236 non-null  category      \n",
            " 20  sale_month                      30236 non-null  category      \n",
            "dtypes: category(11), datetime64[ns](1), float64(3), int64(5), object(1)\n",
            "memory usage: 3.0+ MB\n"
          ]
        }
      ],
      "source": [
        "df4.info()"
      ]
    },
    {
      "cell_type": "code",
      "execution_count": 30,
      "metadata": {
        "id": "Ag5IJH7xyNNW"
      },
      "outputs": [],
      "source": [
        "# We likely don't need the details of an address; we'll get more information from the neighborhood and borough\n",
        "df4.drop(['BLOCK','LOT','ADDRESS'], axis=1, inplace=True)"
      ]
    },
    {
      "cell_type": "code",
      "execution_count": 31,
      "metadata": {
        "id": "fdpc1Dojye6h"
      },
      "outputs": [
        {
          "data": {
            "text/html": [
              "<div>\n",
              "<style scoped>\n",
              "    .dataframe tbody tr th:only-of-type {\n",
              "        vertical-align: middle;\n",
              "    }\n",
              "\n",
              "    .dataframe tbody tr th {\n",
              "        vertical-align: top;\n",
              "    }\n",
              "\n",
              "    .dataframe thead th {\n",
              "        text-align: right;\n",
              "    }\n",
              "</style>\n",
              "<table border=\"1\" class=\"dataframe\">\n",
              "  <thead>\n",
              "    <tr style=\"text-align: right;\">\n",
              "      <th></th>\n",
              "      <th>BOROUGH</th>\n",
              "      <th>NEIGHBORHOOD</th>\n",
              "      <th>BUILDING CLASS CATEGORY</th>\n",
              "      <th>TAX CLASS AT PRESENT</th>\n",
              "      <th>BUILDING CLASS AT PRESENT</th>\n",
              "      <th>ZIP CODE</th>\n",
              "      <th>RESIDENTIAL UNITS</th>\n",
              "      <th>COMMERCIAL UNITS</th>\n",
              "      <th>TOTAL UNITS</th>\n",
              "      <th>LAND SQUARE FEET</th>\n",
              "      <th>GROSS SQUARE FEET</th>\n",
              "      <th>YEAR BUILT</th>\n",
              "      <th>TAX CLASS AT TIME OF SALE</th>\n",
              "      <th>BUILDING CLASS AT TIME OF SALE</th>\n",
              "      <th>SALE PRICE</th>\n",
              "      <th>SALE DATE</th>\n",
              "      <th>sale_year</th>\n",
              "      <th>sale_month</th>\n",
              "    </tr>\n",
              "  </thead>\n",
              "  <tbody>\n",
              "    <tr>\n",
              "      <th>3</th>\n",
              "      <td>Manhattan</td>\n",
              "      <td>ALPHABET CITY</td>\n",
              "      <td>07 RENTALS - WALKUP APARTMENTS</td>\n",
              "      <td>2B</td>\n",
              "      <td>C4</td>\n",
              "      <td>10009</td>\n",
              "      <td>10</td>\n",
              "      <td>0</td>\n",
              "      <td>10</td>\n",
              "      <td>2272.0</td>\n",
              "      <td>6794.0</td>\n",
              "      <td>1913</td>\n",
              "      <td>2</td>\n",
              "      <td>C4</td>\n",
              "      <td>3936272.0</td>\n",
              "      <td>2016-09-23</td>\n",
              "      <td>2016</td>\n",
              "      <td>9</td>\n",
              "    </tr>\n",
              "    <tr>\n",
              "      <th>6</th>\n",
              "      <td>Manhattan</td>\n",
              "      <td>ALPHABET CITY</td>\n",
              "      <td>07 RENTALS - WALKUP APARTMENTS</td>\n",
              "      <td>2B</td>\n",
              "      <td>C4</td>\n",
              "      <td>10009</td>\n",
              "      <td>8</td>\n",
              "      <td>0</td>\n",
              "      <td>8</td>\n",
              "      <td>1750.0</td>\n",
              "      <td>4226.0</td>\n",
              "      <td>1920</td>\n",
              "      <td>2</td>\n",
              "      <td>C4</td>\n",
              "      <td>3192840.0</td>\n",
              "      <td>2016-09-23</td>\n",
              "      <td>2016</td>\n",
              "      <td>9</td>\n",
              "    </tr>\n",
              "    <tr>\n",
              "      <th>172</th>\n",
              "      <td>Manhattan</td>\n",
              "      <td>ALPHABET CITY</td>\n",
              "      <td>14 RENTALS - 4-10 UNIT</td>\n",
              "      <td>2A</td>\n",
              "      <td>S3</td>\n",
              "      <td>10009</td>\n",
              "      <td>3</td>\n",
              "      <td>1</td>\n",
              "      <td>4</td>\n",
              "      <td>1520.0</td>\n",
              "      <td>3360.0</td>\n",
              "      <td>1910</td>\n",
              "      <td>2</td>\n",
              "      <td>S3</td>\n",
              "      <td>3300000.0</td>\n",
              "      <td>2016-11-15</td>\n",
              "      <td>2016</td>\n",
              "      <td>11</td>\n",
              "    </tr>\n",
              "    <tr>\n",
              "      <th>195</th>\n",
              "      <td>Manhattan</td>\n",
              "      <td>ALPHABET CITY</td>\n",
              "      <td>22 STORE BUILDINGS</td>\n",
              "      <td>4</td>\n",
              "      <td>K4</td>\n",
              "      <td>10009</td>\n",
              "      <td>0</td>\n",
              "      <td>1</td>\n",
              "      <td>1</td>\n",
              "      <td>1218.0</td>\n",
              "      <td>3586.0</td>\n",
              "      <td>1899</td>\n",
              "      <td>4</td>\n",
              "      <td>K4</td>\n",
              "      <td>3700000.0</td>\n",
              "      <td>2016-09-28</td>\n",
              "      <td>2016</td>\n",
              "      <td>9</td>\n",
              "    </tr>\n",
              "    <tr>\n",
              "      <th>222</th>\n",
              "      <td>Manhattan</td>\n",
              "      <td>CHELSEA</td>\n",
              "      <td>07 RENTALS - WALKUP APARTMENTS</td>\n",
              "      <td>2B</td>\n",
              "      <td>C4</td>\n",
              "      <td>10011</td>\n",
              "      <td>9</td>\n",
              "      <td>0</td>\n",
              "      <td>9</td>\n",
              "      <td>1566.0</td>\n",
              "      <td>6330.0</td>\n",
              "      <td>1901</td>\n",
              "      <td>2</td>\n",
              "      <td>C4</td>\n",
              "      <td>1583840.0</td>\n",
              "      <td>2017-08-31</td>\n",
              "      <td>2017</td>\n",
              "      <td>8</td>\n",
              "    </tr>\n",
              "  </tbody>\n",
              "</table>\n",
              "</div>"
            ],
            "text/plain": [
              "       BOROUGH   NEIGHBORHOOD                      BUILDING CLASS CATEGORY  \\\n",
              "3    Manhattan  ALPHABET CITY  07 RENTALS - WALKUP APARTMENTS                \n",
              "6    Manhattan  ALPHABET CITY  07 RENTALS - WALKUP APARTMENTS                \n",
              "172  Manhattan  ALPHABET CITY  14 RENTALS - 4-10 UNIT                        \n",
              "195  Manhattan  ALPHABET CITY  22 STORE BUILDINGS                            \n",
              "222  Manhattan        CHELSEA  07 RENTALS - WALKUP APARTMENTS                \n",
              "\n",
              "    TAX CLASS AT PRESENT BUILDING CLASS AT PRESENT ZIP CODE  \\\n",
              "3                     2B                        C4    10009   \n",
              "6                     2B                        C4    10009   \n",
              "172                   2A                        S3    10009   \n",
              "195                    4                        K4    10009   \n",
              "222                   2B                        C4    10011   \n",
              "\n",
              "     RESIDENTIAL UNITS  COMMERCIAL UNITS  TOTAL UNITS  LAND SQUARE FEET  \\\n",
              "3                   10                 0           10            2272.0   \n",
              "6                    8                 0            8            1750.0   \n",
              "172                  3                 1            4            1520.0   \n",
              "195                  0                 1            1            1218.0   \n",
              "222                  9                 0            9            1566.0   \n",
              "\n",
              "     GROSS SQUARE FEET YEAR BUILT TAX CLASS AT TIME OF SALE  \\\n",
              "3               6794.0       1913                         2   \n",
              "6               4226.0       1920                         2   \n",
              "172             3360.0       1910                         2   \n",
              "195             3586.0       1899                         4   \n",
              "222             6330.0       1901                         2   \n",
              "\n",
              "    BUILDING CLASS AT TIME OF SALE  SALE PRICE  SALE DATE sale_year sale_month  \n",
              "3                               C4   3936272.0 2016-09-23      2016          9  \n",
              "6                               C4   3192840.0 2016-09-23      2016          9  \n",
              "172                             S3   3300000.0 2016-11-15      2016         11  \n",
              "195                             K4   3700000.0 2016-09-28      2016          9  \n",
              "222                             C4   1583840.0 2017-08-31      2017          8  "
            ]
          },
          "execution_count": 31,
          "metadata": {},
          "output_type": "execute_result"
        }
      ],
      "source": [
        "# Make the borough category more readable\n",
        "df4['BOROUGH']= df4['BOROUGH'].map({1:'Manhattan', 2:'Bronx', 3: 'Brooklyn', 4:'Queens',5:'Staten Island'})\n",
        "df4.head()"
      ]
    },
    {
      "cell_type": "markdown",
      "metadata": {
        "id": "I90SQ3Qayt6I"
      },
      "source": [
        "Based on what I know about NYC real estate, I would guess that borough likely has an effect on sales price."
      ]
    },
    {
      "cell_type": "code",
      "execution_count": 32,
      "metadata": {
        "id": "ngqvTw89yoUG"
      },
      "outputs": [
        {
          "data": {
            "text/html": [
              "<div>\n",
              "<style scoped>\n",
              "    .dataframe tbody tr th:only-of-type {\n",
              "        vertical-align: middle;\n",
              "    }\n",
              "\n",
              "    .dataframe tbody tr th {\n",
              "        vertical-align: top;\n",
              "    }\n",
              "\n",
              "    .dataframe thead th {\n",
              "        text-align: right;\n",
              "    }\n",
              "</style>\n",
              "<table border=\"1\" class=\"dataframe\">\n",
              "  <thead>\n",
              "    <tr style=\"text-align: right;\">\n",
              "      <th></th>\n",
              "      <th>BOROUGH</th>\n",
              "      <th>SALE PRICE</th>\n",
              "    </tr>\n",
              "  </thead>\n",
              "  <tbody>\n",
              "    <tr>\n",
              "      <th>0</th>\n",
              "      <td>Staten Island</td>\n",
              "      <td>5.257797e+05</td>\n",
              "    </tr>\n",
              "    <tr>\n",
              "      <th>1</th>\n",
              "      <td>Bronx</td>\n",
              "      <td>5.581147e+05</td>\n",
              "    </tr>\n",
              "    <tr>\n",
              "      <th>2</th>\n",
              "      <td>Queens</td>\n",
              "      <td>7.079732e+05</td>\n",
              "    </tr>\n",
              "    <tr>\n",
              "      <th>3</th>\n",
              "      <td>Brooklyn</td>\n",
              "      <td>1.039752e+06</td>\n",
              "    </tr>\n",
              "    <tr>\n",
              "      <th>4</th>\n",
              "      <td>Manhattan</td>\n",
              "      <td>1.846523e+06</td>\n",
              "    </tr>\n",
              "  </tbody>\n",
              "</table>\n",
              "</div>"
            ],
            "text/plain": [
              "         BOROUGH    SALE PRICE\n",
              "0  Staten Island  5.257797e+05\n",
              "1          Bronx  5.581147e+05\n",
              "2         Queens  7.079732e+05\n",
              "3       Brooklyn  1.039752e+06\n",
              "4      Manhattan  1.846523e+06"
            ]
          },
          "execution_count": 32,
          "metadata": {},
          "output_type": "execute_result"
        }
      ],
      "source": [
        "df_bar =df4[['BOROUGH', 'SALE PRICE']].groupby(by='BOROUGH').mean().sort_values(by='SALE PRICE', ascending=True).reset_index()\n",
        "df_bar"
      ]
    },
    {
      "cell_type": "code",
      "execution_count": 33,
      "metadata": {
        "id": "aq2AbJnDzEc5"
      },
      "outputs": [
        {
          "data": {
            "image/png": "[encoded data removed]",
            "text/plain": [
              "<Figure size 1200x600 with 1 Axes>"
            ]
          },
          "metadata": {},
          "output_type": "display_data"
        }
      ],
      "source": [
        "plt.figure(figsize=(12,6))\n",
        "sns.barplot(y = 'BOROUGH', x = 'SALE PRICE', data = df_bar, palette=\"Dark2\" )\n",
        "plt.title('Average SALE PRICE on each BOROUGH')\n",
        "plt.show()"
      ]
    },
    {
      "cell_type": "markdown",
      "metadata": {
        "id": "tCzMTlbOzDwo"
      },
      "source": [
        "That seems like a correct assumption, because the average sales price varies quite a bit between boroughs. Manhattan is clearly the most expensive, with Staten Island being the cheapest borough."
      ]
    },
    {
      "cell_type": "code",
      "execution_count": 34,
      "metadata": {
        "id": "e0-CITcYzdXE"
      },
      "outputs": [
        {
          "data": {
            "image/png": "[encoded data removed]",
            "text/plain": [
              "<Figure size 1200x600 with 1 Axes>"
            ]
          },
          "metadata": {},
          "output_type": "display_data"
        }
      ],
      "source": [
        "plt.figure(figsize=(12,6))\n",
        "sns.boxplot(y = 'BOROUGH', x = 'SALE PRICE', data = df4, palette=\"Set1\" )\n",
        "plt.title('Box plots for SALE PRICE on each BOROUGH')\n",
        "plt.show()"
      ]
    },
    {
      "cell_type": "markdown",
      "metadata": {
        "id": "xqTUm7on12qT"
      },
      "source": [
        "Manhattan sales prices are normally distributed with a wide range, so although it's the most expensive borough, buyers may still be able to find cheaper options. The Bronx and Staten Island have a similar range, but the Bronx has more higher priced outliers. Brooklyn is also a more affordable borough but is right skewed, which tells us that there are still quite a few higher priced sales. Queens is similar to Brooklyn, but less skewed and with a lower range, so it would be more affordable."
      ]
    },
    {
      "cell_type": "markdown",
      "metadata": {
        "id": "MXu5ykzG23fl"
      },
      "source": [
        "Now let's look at number of sales per month."
      ]
    },
    {
      "cell_type": "code",
      "execution_count": 35,
      "metadata": {
        "id": "bzND7c2dy_xm"
      },
      "outputs": [
        {
          "data": {
            "text/html": [
              "<div>\n",
              "<style scoped>\n",
              "    .dataframe tbody tr th:only-of-type {\n",
              "        vertical-align: middle;\n",
              "    }\n",
              "\n",
              "    .dataframe tbody tr th {\n",
              "        vertical-align: top;\n",
              "    }\n",
              "\n",
              "    .dataframe thead th {\n",
              "        text-align: right;\n",
              "    }\n",
              "</style>\n",
              "<table border=\"1\" class=\"dataframe\">\n",
              "  <thead>\n",
              "    <tr style=\"text-align: right;\">\n",
              "      <th></th>\n",
              "      <th>sale_month</th>\n",
              "      <th>Sales_count</th>\n",
              "    </tr>\n",
              "  </thead>\n",
              "  <tbody>\n",
              "    <tr>\n",
              "      <th>0</th>\n",
              "      <td>1</td>\n",
              "      <td>2432</td>\n",
              "    </tr>\n",
              "    <tr>\n",
              "      <th>1</th>\n",
              "      <td>2</td>\n",
              "      <td>2323</td>\n",
              "    </tr>\n",
              "    <tr>\n",
              "      <th>2</th>\n",
              "      <td>3</td>\n",
              "      <td>2782</td>\n",
              "    </tr>\n",
              "    <tr>\n",
              "      <th>3</th>\n",
              "      <td>4</td>\n",
              "      <td>2344</td>\n",
              "    </tr>\n",
              "    <tr>\n",
              "      <th>4</th>\n",
              "      <td>5</td>\n",
              "      <td>2565</td>\n",
              "    </tr>\n",
              "    <tr>\n",
              "      <th>5</th>\n",
              "      <td>6</td>\n",
              "      <td>2931</td>\n",
              "    </tr>\n",
              "    <tr>\n",
              "      <th>6</th>\n",
              "      <td>7</td>\n",
              "      <td>2328</td>\n",
              "    </tr>\n",
              "    <tr>\n",
              "      <th>7</th>\n",
              "      <td>8</td>\n",
              "      <td>1937</td>\n",
              "    </tr>\n",
              "    <tr>\n",
              "      <th>8</th>\n",
              "      <td>9</td>\n",
              "      <td>2807</td>\n",
              "    </tr>\n",
              "    <tr>\n",
              "      <th>9</th>\n",
              "      <td>10</td>\n",
              "      <td>2373</td>\n",
              "    </tr>\n",
              "    <tr>\n",
              "      <th>10</th>\n",
              "      <td>11</td>\n",
              "      <td>2545</td>\n",
              "    </tr>\n",
              "    <tr>\n",
              "      <th>11</th>\n",
              "      <td>12</td>\n",
              "      <td>2869</td>\n",
              "    </tr>\n",
              "  </tbody>\n",
              "</table>\n",
              "</div>"
            ],
            "text/plain": [
              "   sale_month  Sales_count\n",
              "0           1         2432\n",
              "1           2         2323\n",
              "2           3         2782\n",
              "3           4         2344\n",
              "4           5         2565\n",
              "5           6         2931\n",
              "6           7         2328\n",
              "7           8         1937\n",
              "8           9         2807\n",
              "9          10         2373\n",
              "10         11         2545\n",
              "11         12         2869"
            ]
          },
          "execution_count": 35,
          "metadata": {},
          "output_type": "execute_result"
        }
      ],
      "source": [
        "df_bar=df4[['sale_month', 'SALE PRICE']].groupby(by='sale_month').count().sort_values(by='sale_month', ascending=True).reset_index()\n",
        "df_bar.columns.values[1]='Sales_count'\n",
        "df_bar"
      ]
    },
    {
      "cell_type": "code",
      "execution_count": 36,
      "metadata": {
        "id": "Cj9bgh-j3HKV"
      },
      "outputs": [
        {
          "data": {
            "image/png": "[encoded data removed]",
            "text/plain": [
              "<Figure size 1200x600 with 1 Axes>"
            ]
          },
          "metadata": {},
          "output_type": "display_data"
        }
      ],
      "source": [
        "plt.figure(figsize=(12,6))\n",
        "sns.barplot(y = 'sale_month', x = 'Sales_count', data = df_bar, palette=\"Set2\" )\n",
        "plt.title('count SALEs by each month')\n",
        "plt.show()"
      ]
    },
    {
      "cell_type": "markdown",
      "metadata": {
        "id": "CPPPbeOt415F"
      },
      "source": [
        "There's not a clear pattern here. The most popular months to buy/sell are March, June, September, and December, which are spaced relatively evenly throughout the yeat. The least popular month is August, which is surprising to me because I thought families would try to move before school."
      ]
    },
    {
      "cell_type": "code",
      "execution_count": 37,
      "metadata": {
        "id": "dvTuY4W25Rzj"
      },
      "outputs": [
        {
          "data": {
            "text/html": [
              "<div>\n",
              "<style scoped>\n",
              "    .dataframe tbody tr th:only-of-type {\n",
              "        vertical-align: middle;\n",
              "    }\n",
              "\n",
              "    .dataframe tbody tr th {\n",
              "        vertical-align: top;\n",
              "    }\n",
              "\n",
              "    .dataframe thead th {\n",
              "        text-align: right;\n",
              "    }\n",
              "</style>\n",
              "<table border=\"1\" class=\"dataframe\">\n",
              "  <thead>\n",
              "    <tr style=\"text-align: right;\">\n",
              "      <th></th>\n",
              "      <th>sale_month</th>\n",
              "      <th>Sales_count</th>\n",
              "    </tr>\n",
              "  </thead>\n",
              "  <tbody>\n",
              "    <tr>\n",
              "      <th>0</th>\n",
              "      <td>1</td>\n",
              "      <td>2432</td>\n",
              "    </tr>\n",
              "    <tr>\n",
              "      <th>1</th>\n",
              "      <td>2</td>\n",
              "      <td>2323</td>\n",
              "    </tr>\n",
              "    <tr>\n",
              "      <th>2</th>\n",
              "      <td>3</td>\n",
              "      <td>2782</td>\n",
              "    </tr>\n",
              "    <tr>\n",
              "      <th>3</th>\n",
              "      <td>4</td>\n",
              "      <td>2344</td>\n",
              "    </tr>\n",
              "    <tr>\n",
              "      <th>4</th>\n",
              "      <td>5</td>\n",
              "      <td>2565</td>\n",
              "    </tr>\n",
              "    <tr>\n",
              "      <th>5</th>\n",
              "      <td>6</td>\n",
              "      <td>2931</td>\n",
              "    </tr>\n",
              "    <tr>\n",
              "      <th>6</th>\n",
              "      <td>7</td>\n",
              "      <td>2328</td>\n",
              "    </tr>\n",
              "    <tr>\n",
              "      <th>7</th>\n",
              "      <td>8</td>\n",
              "      <td>1937</td>\n",
              "    </tr>\n",
              "    <tr>\n",
              "      <th>8</th>\n",
              "      <td>9</td>\n",
              "      <td>2807</td>\n",
              "    </tr>\n",
              "    <tr>\n",
              "      <th>9</th>\n",
              "      <td>10</td>\n",
              "      <td>2373</td>\n",
              "    </tr>\n",
              "    <tr>\n",
              "      <th>10</th>\n",
              "      <td>11</td>\n",
              "      <td>2545</td>\n",
              "    </tr>\n",
              "    <tr>\n",
              "      <th>11</th>\n",
              "      <td>12</td>\n",
              "      <td>2869</td>\n",
              "    </tr>\n",
              "  </tbody>\n",
              "</table>\n",
              "</div>"
            ],
            "text/plain": [
              "   sale_month  Sales_count\n",
              "0           1         2432\n",
              "1           2         2323\n",
              "2           3         2782\n",
              "3           4         2344\n",
              "4           5         2565\n",
              "5           6         2931\n",
              "6           7         2328\n",
              "7           8         1937\n",
              "8           9         2807\n",
              "9          10         2373\n",
              "10         11         2545\n",
              "11         12         2869"
            ]
          },
          "execution_count": 37,
          "metadata": {},
          "output_type": "execute_result"
        }
      ],
      "source": [
        "df_bar2 =df4[['sale_month', 'SALE PRICE']].groupby(by='sale_month').mean().sort_values(by='SALE PRICE', ascending=True).reset_index()\n",
        "df_bar"
      ]
    },
    {
      "cell_type": "code",
      "execution_count": 38,
      "metadata": {
        "id": "i9Px9I_w3JaU"
      },
      "outputs": [
        {
          "data": {
            "image/png": "[encoded data removed]",
            "text/plain": [
              "<Figure size 1200x600 with 1 Axes>"
            ]
          },
          "metadata": {},
          "output_type": "display_data"
        }
      ],
      "source": [
        "plt.figure(figsize=(12,6))\n",
        "sns.barplot(y = 'sale_month', x = 'SALE PRICE', data = df_bar2, palette=\"Dark2\" )\n",
        "plt.title('Average SALE PRICE on each MONTH')\n",
        "plt.show()"
      ]
    },
    {
      "cell_type": "markdown",
      "metadata": {
        "id": "VgVulcGa52qx"
      },
      "source": [
        "I was curious about the relationship between price and sale month, so I built this graph out as well. It seems relatively even -- I don't see a huge pattern here. It is interesting, though, that the month with the lowest sales, August, also has the highest average sales price; that could be related."
      ]
    },
    {
      "cell_type": "code",
      "execution_count": null,
      "metadata": {
        "id": "mov3ZPGC-MpK"
      },
      "outputs": [],
      "source": []
    }
  ],
  "metadata": {
    "colab": {
      "provenance": []
    },
    "kernelspec": {
      "display_name": "base",
      "language": "python",
      "name": "python3"
    },
    "language_info": {
      "codemirror_mode": {
        "name": "ipython",
        "version": 3
      },
      "file_extension": ".py",
      "mimetype": "text/x-python",
      "name": "python",
      "nbconvert_exporter": "python",
      "pygments_lexer": "ipython3",
      "version": "3.10.14"
    }
  },
  "nbformat": 4,
  "nbformat_minor": 0
}
